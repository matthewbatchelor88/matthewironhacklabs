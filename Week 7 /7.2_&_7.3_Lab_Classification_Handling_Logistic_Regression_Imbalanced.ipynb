{
 "cells": [
  {
   "cell_type": "markdown",
   "id": "af117223-c3a8-4097-ac25-df567b2fea73",
   "metadata": {},
   "source": [
    "## Instructions\n",
    "\n",
    "In this lab, we will first take a look at the degree of imbalance in the data and correct it using the techniques we learned in class.\n",
    "\n",
    "Here is the list of steps to be followed (building a simple model without balancing the data):\n",
    "\n",
    "## Round 1\n",
    "\n",
    "- Import the required libraries and modules that you would need\n",
    "\n",
    "- Read that data into Python and call the dataframe churnData\n",
    "\n",
    "- Check the datatypes of all the columns in the data. You will see that the column TotalCharges is object type. Convert this column into numeric type using pd.to_numeric function\n",
    "\n",
    "- Check for null values in the dataframe. Replace the null values\n",
    "\n",
    "- Use the following features: tenure, SeniorCitizen, MonthlyCharges and TotalCharges\n",
    "\n",
    "- Split the data into a training set and a test set\n",
    "\n",
    "- Scale the features either by using normalizer or a standard scaler\n",
    "\n",
    "- Fit a logistic Regression model on the training data\n",
    "\n",
    "- Fit a Knn Classifier(NOT KnnRegressor please!)model on the training data."
   ]
  },
  {
   "cell_type": "markdown",
   "id": "5bcc8c6b-3a6f-42a7-99b5-52bea1b9bf77",
   "metadata": {},
   "source": [
    "## Data Preprocessing"
   ]
  },
  {
   "cell_type": "code",
   "execution_count": 7,
   "id": "06abe533-c308-46b0-9047-c6099ca8b7ca",
   "metadata": {
    "tags": []
   },
   "outputs": [],
   "source": [
    "import pandas as pd "
   ]
  },
  {
   "cell_type": "code",
   "execution_count": 8,
   "id": "150b164b-87ea-4634-8360-389a27e7d86f",
   "metadata": {
    "tags": []
   },
   "outputs": [],
   "source": [
    "churnData = pd.read_csv('DATA_Customer-Churn.csv') # import csv, create dataframe "
   ]
  },
  {
   "cell_type": "code",
   "execution_count": 9,
   "id": "dabbef32-1eb1-48cc-857b-d406e8ceeec1",
   "metadata": {
    "tags": []
   },
   "outputs": [
    {
     "data": {
      "text/html": [
       "<div>\n",
       "<style scoped>\n",
       "    .dataframe tbody tr th:only-of-type {\n",
       "        vertical-align: middle;\n",
       "    }\n",
       "\n",
       "    .dataframe tbody tr th {\n",
       "        vertical-align: top;\n",
       "    }\n",
       "\n",
       "    .dataframe thead th {\n",
       "        text-align: right;\n",
       "    }\n",
       "</style>\n",
       "<table border=\"1\" class=\"dataframe\">\n",
       "  <thead>\n",
       "    <tr style=\"text-align: right;\">\n",
       "      <th></th>\n",
       "      <th>gender</th>\n",
       "      <th>SeniorCitizen</th>\n",
       "      <th>Partner</th>\n",
       "      <th>Dependents</th>\n",
       "      <th>tenure</th>\n",
       "      <th>PhoneService</th>\n",
       "      <th>OnlineSecurity</th>\n",
       "      <th>OnlineBackup</th>\n",
       "      <th>DeviceProtection</th>\n",
       "      <th>TechSupport</th>\n",
       "      <th>StreamingTV</th>\n",
       "      <th>StreamingMovies</th>\n",
       "      <th>Contract</th>\n",
       "      <th>MonthlyCharges</th>\n",
       "      <th>TotalCharges</th>\n",
       "      <th>Churn</th>\n",
       "    </tr>\n",
       "  </thead>\n",
       "  <tbody>\n",
       "    <tr>\n",
       "      <th>0</th>\n",
       "      <td>Female</td>\n",
       "      <td>0</td>\n",
       "      <td>Yes</td>\n",
       "      <td>No</td>\n",
       "      <td>1</td>\n",
       "      <td>No</td>\n",
       "      <td>No</td>\n",
       "      <td>Yes</td>\n",
       "      <td>No</td>\n",
       "      <td>No</td>\n",
       "      <td>No</td>\n",
       "      <td>No</td>\n",
       "      <td>Month-to-month</td>\n",
       "      <td>29.85</td>\n",
       "      <td>29.85</td>\n",
       "      <td>No</td>\n",
       "    </tr>\n",
       "    <tr>\n",
       "      <th>1</th>\n",
       "      <td>Male</td>\n",
       "      <td>0</td>\n",
       "      <td>No</td>\n",
       "      <td>No</td>\n",
       "      <td>34</td>\n",
       "      <td>Yes</td>\n",
       "      <td>Yes</td>\n",
       "      <td>No</td>\n",
       "      <td>Yes</td>\n",
       "      <td>No</td>\n",
       "      <td>No</td>\n",
       "      <td>No</td>\n",
       "      <td>One year</td>\n",
       "      <td>56.95</td>\n",
       "      <td>1889.5</td>\n",
       "      <td>No</td>\n",
       "    </tr>\n",
       "    <tr>\n",
       "      <th>2</th>\n",
       "      <td>Male</td>\n",
       "      <td>0</td>\n",
       "      <td>No</td>\n",
       "      <td>No</td>\n",
       "      <td>2</td>\n",
       "      <td>Yes</td>\n",
       "      <td>Yes</td>\n",
       "      <td>Yes</td>\n",
       "      <td>No</td>\n",
       "      <td>No</td>\n",
       "      <td>No</td>\n",
       "      <td>No</td>\n",
       "      <td>Month-to-month</td>\n",
       "      <td>53.85</td>\n",
       "      <td>108.15</td>\n",
       "      <td>Yes</td>\n",
       "    </tr>\n",
       "    <tr>\n",
       "      <th>3</th>\n",
       "      <td>Male</td>\n",
       "      <td>0</td>\n",
       "      <td>No</td>\n",
       "      <td>No</td>\n",
       "      <td>45</td>\n",
       "      <td>No</td>\n",
       "      <td>Yes</td>\n",
       "      <td>No</td>\n",
       "      <td>Yes</td>\n",
       "      <td>Yes</td>\n",
       "      <td>No</td>\n",
       "      <td>No</td>\n",
       "      <td>One year</td>\n",
       "      <td>42.30</td>\n",
       "      <td>1840.75</td>\n",
       "      <td>No</td>\n",
       "    </tr>\n",
       "    <tr>\n",
       "      <th>4</th>\n",
       "      <td>Female</td>\n",
       "      <td>0</td>\n",
       "      <td>No</td>\n",
       "      <td>No</td>\n",
       "      <td>2</td>\n",
       "      <td>Yes</td>\n",
       "      <td>No</td>\n",
       "      <td>No</td>\n",
       "      <td>No</td>\n",
       "      <td>No</td>\n",
       "      <td>No</td>\n",
       "      <td>No</td>\n",
       "      <td>Month-to-month</td>\n",
       "      <td>70.70</td>\n",
       "      <td>151.65</td>\n",
       "      <td>Yes</td>\n",
       "    </tr>\n",
       "    <tr>\n",
       "      <th>...</th>\n",
       "      <td>...</td>\n",
       "      <td>...</td>\n",
       "      <td>...</td>\n",
       "      <td>...</td>\n",
       "      <td>...</td>\n",
       "      <td>...</td>\n",
       "      <td>...</td>\n",
       "      <td>...</td>\n",
       "      <td>...</td>\n",
       "      <td>...</td>\n",
       "      <td>...</td>\n",
       "      <td>...</td>\n",
       "      <td>...</td>\n",
       "      <td>...</td>\n",
       "      <td>...</td>\n",
       "      <td>...</td>\n",
       "    </tr>\n",
       "    <tr>\n",
       "      <th>7038</th>\n",
       "      <td>Male</td>\n",
       "      <td>0</td>\n",
       "      <td>Yes</td>\n",
       "      <td>Yes</td>\n",
       "      <td>24</td>\n",
       "      <td>Yes</td>\n",
       "      <td>Yes</td>\n",
       "      <td>No</td>\n",
       "      <td>Yes</td>\n",
       "      <td>Yes</td>\n",
       "      <td>Yes</td>\n",
       "      <td>Yes</td>\n",
       "      <td>One year</td>\n",
       "      <td>84.80</td>\n",
       "      <td>1990.5</td>\n",
       "      <td>No</td>\n",
       "    </tr>\n",
       "    <tr>\n",
       "      <th>7039</th>\n",
       "      <td>Female</td>\n",
       "      <td>0</td>\n",
       "      <td>Yes</td>\n",
       "      <td>Yes</td>\n",
       "      <td>72</td>\n",
       "      <td>Yes</td>\n",
       "      <td>No</td>\n",
       "      <td>Yes</td>\n",
       "      <td>Yes</td>\n",
       "      <td>No</td>\n",
       "      <td>Yes</td>\n",
       "      <td>Yes</td>\n",
       "      <td>One year</td>\n",
       "      <td>103.20</td>\n",
       "      <td>7362.9</td>\n",
       "      <td>No</td>\n",
       "    </tr>\n",
       "    <tr>\n",
       "      <th>7040</th>\n",
       "      <td>Female</td>\n",
       "      <td>0</td>\n",
       "      <td>Yes</td>\n",
       "      <td>Yes</td>\n",
       "      <td>11</td>\n",
       "      <td>No</td>\n",
       "      <td>Yes</td>\n",
       "      <td>No</td>\n",
       "      <td>No</td>\n",
       "      <td>No</td>\n",
       "      <td>No</td>\n",
       "      <td>No</td>\n",
       "      <td>Month-to-month</td>\n",
       "      <td>29.60</td>\n",
       "      <td>346.45</td>\n",
       "      <td>No</td>\n",
       "    </tr>\n",
       "    <tr>\n",
       "      <th>7041</th>\n",
       "      <td>Male</td>\n",
       "      <td>1</td>\n",
       "      <td>Yes</td>\n",
       "      <td>No</td>\n",
       "      <td>4</td>\n",
       "      <td>Yes</td>\n",
       "      <td>No</td>\n",
       "      <td>No</td>\n",
       "      <td>No</td>\n",
       "      <td>No</td>\n",
       "      <td>No</td>\n",
       "      <td>No</td>\n",
       "      <td>Month-to-month</td>\n",
       "      <td>74.40</td>\n",
       "      <td>306.6</td>\n",
       "      <td>Yes</td>\n",
       "    </tr>\n",
       "    <tr>\n",
       "      <th>7042</th>\n",
       "      <td>Male</td>\n",
       "      <td>0</td>\n",
       "      <td>No</td>\n",
       "      <td>No</td>\n",
       "      <td>66</td>\n",
       "      <td>Yes</td>\n",
       "      <td>Yes</td>\n",
       "      <td>No</td>\n",
       "      <td>Yes</td>\n",
       "      <td>Yes</td>\n",
       "      <td>Yes</td>\n",
       "      <td>Yes</td>\n",
       "      <td>Two year</td>\n",
       "      <td>105.65</td>\n",
       "      <td>6844.5</td>\n",
       "      <td>No</td>\n",
       "    </tr>\n",
       "  </tbody>\n",
       "</table>\n",
       "<p>7043 rows × 16 columns</p>\n",
       "</div>"
      ],
      "text/plain": [
       "      gender  SeniorCitizen Partner Dependents  tenure PhoneService  \\\n",
       "0     Female              0     Yes         No       1           No   \n",
       "1       Male              0      No         No      34          Yes   \n",
       "2       Male              0      No         No       2          Yes   \n",
       "3       Male              0      No         No      45           No   \n",
       "4     Female              0      No         No       2          Yes   \n",
       "...      ...            ...     ...        ...     ...          ...   \n",
       "7038    Male              0     Yes        Yes      24          Yes   \n",
       "7039  Female              0     Yes        Yes      72          Yes   \n",
       "7040  Female              0     Yes        Yes      11           No   \n",
       "7041    Male              1     Yes         No       4          Yes   \n",
       "7042    Male              0      No         No      66          Yes   \n",
       "\n",
       "     OnlineSecurity OnlineBackup DeviceProtection TechSupport StreamingTV  \\\n",
       "0                No          Yes               No          No          No   \n",
       "1               Yes           No              Yes          No          No   \n",
       "2               Yes          Yes               No          No          No   \n",
       "3               Yes           No              Yes         Yes          No   \n",
       "4                No           No               No          No          No   \n",
       "...             ...          ...              ...         ...         ...   \n",
       "7038            Yes           No              Yes         Yes         Yes   \n",
       "7039             No          Yes              Yes          No         Yes   \n",
       "7040            Yes           No               No          No          No   \n",
       "7041             No           No               No          No          No   \n",
       "7042            Yes           No              Yes         Yes         Yes   \n",
       "\n",
       "     StreamingMovies        Contract  MonthlyCharges TotalCharges Churn  \n",
       "0                 No  Month-to-month           29.85        29.85    No  \n",
       "1                 No        One year           56.95       1889.5    No  \n",
       "2                 No  Month-to-month           53.85       108.15   Yes  \n",
       "3                 No        One year           42.30      1840.75    No  \n",
       "4                 No  Month-to-month           70.70       151.65   Yes  \n",
       "...              ...             ...             ...          ...   ...  \n",
       "7038             Yes        One year           84.80       1990.5    No  \n",
       "7039             Yes        One year          103.20       7362.9    No  \n",
       "7040              No  Month-to-month           29.60       346.45    No  \n",
       "7041              No  Month-to-month           74.40        306.6   Yes  \n",
       "7042             Yes        Two year          105.65       6844.5    No  \n",
       "\n",
       "[7043 rows x 16 columns]"
      ]
     },
     "execution_count": 9,
     "metadata": {},
     "output_type": "execute_result"
    }
   ],
   "source": [
    "churnData # display dataframe "
   ]
  },
  {
   "cell_type": "code",
   "execution_count": 10,
   "id": "78af690f-39b2-4d62-93a1-c80060bf3768",
   "metadata": {
    "tags": []
   },
   "outputs": [
    {
     "name": "stdout",
     "output_type": "stream",
     "text": [
      "<class 'pandas.core.frame.DataFrame'>\n",
      "RangeIndex: 7043 entries, 0 to 7042\n",
      "Data columns (total 16 columns):\n",
      " #   Column            Non-Null Count  Dtype  \n",
      "---  ------            --------------  -----  \n",
      " 0   gender            7043 non-null   object \n",
      " 1   SeniorCitizen     7043 non-null   int64  \n",
      " 2   Partner           7043 non-null   object \n",
      " 3   Dependents        7043 non-null   object \n",
      " 4   tenure            7043 non-null   int64  \n",
      " 5   PhoneService      7043 non-null   object \n",
      " 6   OnlineSecurity    7043 non-null   object \n",
      " 7   OnlineBackup      7043 non-null   object \n",
      " 8   DeviceProtection  7043 non-null   object \n",
      " 9   TechSupport       7043 non-null   object \n",
      " 10  StreamingTV       7043 non-null   object \n",
      " 11  StreamingMovies   7043 non-null   object \n",
      " 12  Contract          7043 non-null   object \n",
      " 13  MonthlyCharges    7043 non-null   float64\n",
      " 14  TotalCharges      7043 non-null   object \n",
      " 15  Churn             7043 non-null   object \n",
      "dtypes: float64(1), int64(2), object(13)\n",
      "memory usage: 880.5+ KB\n"
     ]
    }
   ],
   "source": [
    "churnData.info() # get overview of data"
   ]
  },
  {
   "cell_type": "code",
   "execution_count": 11,
   "id": "38e45949-8941-4e06-a44d-49a39fa89187",
   "metadata": {
    "tags": []
   },
   "outputs": [
    {
     "name": "stdout",
     "output_type": "stream",
     "text": [
      "gender              0\n",
      "SeniorCitizen       0\n",
      "Partner             0\n",
      "Dependents          0\n",
      "tenure              0\n",
      "PhoneService        0\n",
      "OnlineSecurity      0\n",
      "OnlineBackup        0\n",
      "DeviceProtection    0\n",
      "TechSupport         0\n",
      "StreamingTV         0\n",
      "StreamingMovies     0\n",
      "Contract            0\n",
      "MonthlyCharges      0\n",
      "TotalCharges        0\n",
      "Churn               0\n",
      "dtype: int64\n"
     ]
    }
   ],
   "source": [
    "# Count null values in each column of the DataFrame\n",
    "null_counts = churnData.isnull().sum()\n",
    "\n",
    "# Print the null value counts\n",
    "print(null_counts)"
   ]
  },
  {
   "cell_type": "code",
   "execution_count": 12,
   "id": "7be6e2e9-a890-453a-9d2b-5f9dda009bc1",
   "metadata": {
    "tags": []
   },
   "outputs": [],
   "source": [
    "churnData['TotalCharges'] = pd.to_numeric(churnData['TotalCharges'], errors='coerce') # By adding errors='coerce', the function will convert non-numeric values to NaN, \n",
    "# allowing the conversion to proceed without raising an error."
   ]
  },
  {
   "cell_type": "code",
   "execution_count": 13,
   "id": "5811e3c4-6a83-4219-98e9-64ff8d5d15c2",
   "metadata": {
    "tags": []
   },
   "outputs": [
    {
     "name": "stdout",
     "output_type": "stream",
     "text": [
      "gender              0\n",
      "SeniorCitizen       0\n",
      "Partner             0\n",
      "Dependents          0\n",
      "tenure              0\n",
      "PhoneService        0\n",
      "OnlineSecurity      0\n",
      "OnlineBackup        0\n",
      "DeviceProtection    0\n",
      "TechSupport         0\n",
      "StreamingTV         0\n",
      "StreamingMovies     0\n",
      "Contract            0\n",
      "MonthlyCharges      0\n",
      "TotalCharges        0\n",
      "Churn               0\n",
      "dtype: int64\n"
     ]
    }
   ],
   "source": [
    "# Print the null value counts\n",
    "print(null_counts)"
   ]
  },
  {
   "cell_type": "code",
   "execution_count": 14,
   "id": "fd842cbd-c5e7-4a27-91d0-b986d9826061",
   "metadata": {
    "tags": []
   },
   "outputs": [
    {
     "name": "stdout",
     "output_type": "stream",
     "text": [
      "<class 'pandas.core.frame.DataFrame'>\n",
      "RangeIndex: 7043 entries, 0 to 7042\n",
      "Data columns (total 16 columns):\n",
      " #   Column            Non-Null Count  Dtype  \n",
      "---  ------            --------------  -----  \n",
      " 0   gender            7043 non-null   object \n",
      " 1   SeniorCitizen     7043 non-null   int64  \n",
      " 2   Partner           7043 non-null   object \n",
      " 3   Dependents        7043 non-null   object \n",
      " 4   tenure            7043 non-null   int64  \n",
      " 5   PhoneService      7043 non-null   object \n",
      " 6   OnlineSecurity    7043 non-null   object \n",
      " 7   OnlineBackup      7043 non-null   object \n",
      " 8   DeviceProtection  7043 non-null   object \n",
      " 9   TechSupport       7043 non-null   object \n",
      " 10  StreamingTV       7043 non-null   object \n",
      " 11  StreamingMovies   7043 non-null   object \n",
      " 12  Contract          7043 non-null   object \n",
      " 13  MonthlyCharges    7043 non-null   float64\n",
      " 14  TotalCharges      7032 non-null   float64\n",
      " 15  Churn             7043 non-null   object \n",
      "dtypes: float64(2), int64(2), object(12)\n",
      "memory usage: 880.5+ KB\n"
     ]
    }
   ],
   "source": [
    "churnData.info()"
   ]
  },
  {
   "cell_type": "code",
   "execution_count": 15,
   "id": "d92bb1c7-7e18-429f-9459-4a05453c50e6",
   "metadata": {
    "tags": []
   },
   "outputs": [
    {
     "name": "stdout",
     "output_type": "stream",
     "text": [
      "      gender  SeniorCitizen Partner Dependents  tenure PhoneService  \\\n",
      "22      Male              0      No         No       1          Yes   \n",
      "33      Male              0      No         No       1          Yes   \n",
      "100     Male              0      No         No       1          Yes   \n",
      "128     Male              0      No         No       1          Yes   \n",
      "211   Female              0      No         No       1           No   \n",
      "...      ...            ...     ...        ...     ...          ...   \n",
      "6706  Female              0      No         No       1          Yes   \n",
      "6764  Female              0      No         No       1          Yes   \n",
      "6774  Female              0      No         No       1          Yes   \n",
      "6789  Female              0      No         No       1          Yes   \n",
      "6924    Male              0      No         No       1          Yes   \n",
      "\n",
      "           OnlineSecurity         OnlineBackup     DeviceProtection  \\\n",
      "22    No internet service  No internet service  No internet service   \n",
      "33    No internet service  No internet service  No internet service   \n",
      "100   No internet service  No internet service  No internet service   \n",
      "128   No internet service  No internet service  No internet service   \n",
      "211                    No                   No                   No   \n",
      "...                   ...                  ...                  ...   \n",
      "6706  No internet service  No internet service  No internet service   \n",
      "6764                   No                   No                   No   \n",
      "6774  No internet service  No internet service  No internet service   \n",
      "6789  No internet service  No internet service  No internet service   \n",
      "6924                   No                   No                   No   \n",
      "\n",
      "              TechSupport          StreamingTV      StreamingMovies  \\\n",
      "22    No internet service  No internet service  No internet service   \n",
      "33    No internet service  No internet service  No internet service   \n",
      "100   No internet service  No internet service  No internet service   \n",
      "128   No internet service  No internet service  No internet service   \n",
      "211                    No                   No                   No   \n",
      "...                   ...                  ...                  ...   \n",
      "6706  No internet service  No internet service  No internet service   \n",
      "6764                   No                   No                   No   \n",
      "6774  No internet service  No internet service  No internet service   \n",
      "6789  No internet service  No internet service  No internet service   \n",
      "6924                   No                   No                   No   \n",
      "\n",
      "            Contract  MonthlyCharges  TotalCharges Churn  \n",
      "22    Month-to-month           20.15         20.15   Yes  \n",
      "33    Month-to-month           20.20         20.20    No  \n",
      "100   Month-to-month           20.20         20.20    No  \n",
      "128   Month-to-month           19.75         19.75    No  \n",
      "211   Month-to-month           25.25         25.25    No  \n",
      "...              ...             ...           ...   ...  \n",
      "6706  Month-to-month           19.90         19.90    No  \n",
      "6764  Month-to-month           69.20         69.20   Yes  \n",
      "6774  Month-to-month           19.65         19.65    No  \n",
      "6789  Month-to-month           20.20         20.20   Yes  \n",
      "6924  Month-to-month           69.35         69.35   Yes  \n",
      "\n",
      "[83 rows x 16 columns]\n"
     ]
    }
   ],
   "source": [
    "# Filter the DataFrame to show only entirely duplicated rows\n",
    "duplicate_rows = churnData[churnData.duplicated(keep=False)]\n",
    "\n",
    "# Print the duplicated rows\n",
    "print(duplicate_rows)"
   ]
  },
  {
   "cell_type": "code",
   "execution_count": 16,
   "id": "d32cba30-1be5-4258-9d8e-7c68ed2a903b",
   "metadata": {
    "tags": []
   },
   "outputs": [],
   "source": [
    "# Drop entirely duplicated rows from the DataFrame\n",
    "churnData.drop_duplicates(inplace=True)"
   ]
  },
  {
   "cell_type": "code",
   "execution_count": 17,
   "id": "238c67e6-781d-480b-a2d1-af8c15a6b201",
   "metadata": {
    "jupyter": {
     "source_hidden": true
    },
    "tags": []
   },
   "outputs": [
    {
     "data": {
      "text/html": [
       "<div>\n",
       "<style scoped>\n",
       "    .dataframe tbody tr th:only-of-type {\n",
       "        vertical-align: middle;\n",
       "    }\n",
       "\n",
       "    .dataframe tbody tr th {\n",
       "        vertical-align: top;\n",
       "    }\n",
       "\n",
       "    .dataframe thead th {\n",
       "        text-align: right;\n",
       "    }\n",
       "</style>\n",
       "<table border=\"1\" class=\"dataframe\">\n",
       "  <thead>\n",
       "    <tr style=\"text-align: right;\">\n",
       "      <th></th>\n",
       "      <th>SeniorCitizen</th>\n",
       "      <th>tenure</th>\n",
       "      <th>MonthlyCharges</th>\n",
       "      <th>TotalCharges</th>\n",
       "      <th>Churn</th>\n",
       "    </tr>\n",
       "  </thead>\n",
       "  <tbody>\n",
       "    <tr>\n",
       "      <th>0</th>\n",
       "      <td>0</td>\n",
       "      <td>1</td>\n",
       "      <td>29.85</td>\n",
       "      <td>29.85</td>\n",
       "      <td>No</td>\n",
       "    </tr>\n",
       "    <tr>\n",
       "      <th>1</th>\n",
       "      <td>0</td>\n",
       "      <td>34</td>\n",
       "      <td>56.95</td>\n",
       "      <td>1889.50</td>\n",
       "      <td>No</td>\n",
       "    </tr>\n",
       "    <tr>\n",
       "      <th>2</th>\n",
       "      <td>0</td>\n",
       "      <td>2</td>\n",
       "      <td>53.85</td>\n",
       "      <td>108.15</td>\n",
       "      <td>Yes</td>\n",
       "    </tr>\n",
       "    <tr>\n",
       "      <th>3</th>\n",
       "      <td>0</td>\n",
       "      <td>45</td>\n",
       "      <td>42.30</td>\n",
       "      <td>1840.75</td>\n",
       "      <td>No</td>\n",
       "    </tr>\n",
       "    <tr>\n",
       "      <th>4</th>\n",
       "      <td>0</td>\n",
       "      <td>2</td>\n",
       "      <td>70.70</td>\n",
       "      <td>151.65</td>\n",
       "      <td>Yes</td>\n",
       "    </tr>\n",
       "    <tr>\n",
       "      <th>...</th>\n",
       "      <td>...</td>\n",
       "      <td>...</td>\n",
       "      <td>...</td>\n",
       "      <td>...</td>\n",
       "      <td>...</td>\n",
       "    </tr>\n",
       "    <tr>\n",
       "      <th>7038</th>\n",
       "      <td>0</td>\n",
       "      <td>24</td>\n",
       "      <td>84.80</td>\n",
       "      <td>1990.50</td>\n",
       "      <td>No</td>\n",
       "    </tr>\n",
       "    <tr>\n",
       "      <th>7039</th>\n",
       "      <td>0</td>\n",
       "      <td>72</td>\n",
       "      <td>103.20</td>\n",
       "      <td>7362.90</td>\n",
       "      <td>No</td>\n",
       "    </tr>\n",
       "    <tr>\n",
       "      <th>7040</th>\n",
       "      <td>0</td>\n",
       "      <td>11</td>\n",
       "      <td>29.60</td>\n",
       "      <td>346.45</td>\n",
       "      <td>No</td>\n",
       "    </tr>\n",
       "    <tr>\n",
       "      <th>7041</th>\n",
       "      <td>1</td>\n",
       "      <td>4</td>\n",
       "      <td>74.40</td>\n",
       "      <td>306.60</td>\n",
       "      <td>Yes</td>\n",
       "    </tr>\n",
       "    <tr>\n",
       "      <th>7042</th>\n",
       "      <td>0</td>\n",
       "      <td>66</td>\n",
       "      <td>105.65</td>\n",
       "      <td>6844.50</td>\n",
       "      <td>No</td>\n",
       "    </tr>\n",
       "  </tbody>\n",
       "</table>\n",
       "<p>6994 rows × 5 columns</p>\n",
       "</div>"
      ],
      "text/plain": [
       "      SeniorCitizen  tenure  MonthlyCharges  TotalCharges Churn\n",
       "0                 0       1           29.85         29.85    No\n",
       "1                 0      34           56.95       1889.50    No\n",
       "2                 0       2           53.85        108.15   Yes\n",
       "3                 0      45           42.30       1840.75    No\n",
       "4                 0       2           70.70        151.65   Yes\n",
       "...             ...     ...             ...           ...   ...\n",
       "7038              0      24           84.80       1990.50    No\n",
       "7039              0      72          103.20       7362.90    No\n",
       "7040              0      11           29.60        346.45    No\n",
       "7041              1       4           74.40        306.60   Yes\n",
       "7042              0      66          105.65       6844.50    No\n",
       "\n",
       "[6994 rows x 5 columns]"
      ]
     },
     "execution_count": 17,
     "metadata": {},
     "output_type": "execute_result"
    }
   ],
   "source": [
    "# List of columns to keep\n",
    "columns_to_keep = ['tenure', 'SeniorCitizen', 'MonthlyCharges', 'TotalCharges', 'Churn']\n",
    "\n",
    "# Drop all columns except the ones in columns_to_keep\n",
    "churnData.drop(columns=churnData.columns.difference(columns_to_keep), inplace=True)\n",
    "churnData"
   ]
  },
  {
   "cell_type": "code",
   "execution_count": 18,
   "id": "89e7888c-4bb4-48cc-8002-62eaf00f985b",
   "metadata": {
    "tags": []
   },
   "outputs": [
    {
     "data": {
      "text/plain": [
       "<bound method IndexOpsMixin.nunique of 0        No\n",
       "1        No\n",
       "2       Yes\n",
       "3        No\n",
       "4       Yes\n",
       "       ... \n",
       "7038     No\n",
       "7039     No\n",
       "7040     No\n",
       "7041    Yes\n",
       "7042     No\n",
       "Name: Churn, Length: 6994, dtype: object>"
      ]
     },
     "execution_count": 18,
     "metadata": {},
     "output_type": "execute_result"
    }
   ],
   "source": [
    "# Assuming churn is my target variable\n",
    "\n",
    "churnData['Churn'].nunique"
   ]
  },
  {
   "cell_type": "code",
   "execution_count": 19,
   "id": "39d0b098-e930-4f50-b1c9-74de46e67bb7",
   "metadata": {
    "tags": []
   },
   "outputs": [],
   "source": [
    "churnData['Churn']=churnData['Churn'].map({'No': 0, 'Yes': 1})"
   ]
  },
  {
   "cell_type": "code",
   "execution_count": 20,
   "id": "498a56e0-82fb-4499-8119-aab59dd31c01",
   "metadata": {
    "tags": []
   },
   "outputs": [
    {
     "data": {
      "text/html": [
       "<div>\n",
       "<style scoped>\n",
       "    .dataframe tbody tr th:only-of-type {\n",
       "        vertical-align: middle;\n",
       "    }\n",
       "\n",
       "    .dataframe tbody tr th {\n",
       "        vertical-align: top;\n",
       "    }\n",
       "\n",
       "    .dataframe thead th {\n",
       "        text-align: right;\n",
       "    }\n",
       "</style>\n",
       "<table border=\"1\" class=\"dataframe\">\n",
       "  <thead>\n",
       "    <tr style=\"text-align: right;\">\n",
       "      <th></th>\n",
       "      <th>SeniorCitizen</th>\n",
       "      <th>tenure</th>\n",
       "      <th>MonthlyCharges</th>\n",
       "      <th>TotalCharges</th>\n",
       "      <th>Churn</th>\n",
       "    </tr>\n",
       "  </thead>\n",
       "  <tbody>\n",
       "    <tr>\n",
       "      <th>0</th>\n",
       "      <td>0</td>\n",
       "      <td>1</td>\n",
       "      <td>29.85</td>\n",
       "      <td>29.85</td>\n",
       "      <td>0</td>\n",
       "    </tr>\n",
       "    <tr>\n",
       "      <th>1</th>\n",
       "      <td>0</td>\n",
       "      <td>34</td>\n",
       "      <td>56.95</td>\n",
       "      <td>1889.50</td>\n",
       "      <td>0</td>\n",
       "    </tr>\n",
       "    <tr>\n",
       "      <th>2</th>\n",
       "      <td>0</td>\n",
       "      <td>2</td>\n",
       "      <td>53.85</td>\n",
       "      <td>108.15</td>\n",
       "      <td>1</td>\n",
       "    </tr>\n",
       "    <tr>\n",
       "      <th>3</th>\n",
       "      <td>0</td>\n",
       "      <td>45</td>\n",
       "      <td>42.30</td>\n",
       "      <td>1840.75</td>\n",
       "      <td>0</td>\n",
       "    </tr>\n",
       "    <tr>\n",
       "      <th>4</th>\n",
       "      <td>0</td>\n",
       "      <td>2</td>\n",
       "      <td>70.70</td>\n",
       "      <td>151.65</td>\n",
       "      <td>1</td>\n",
       "    </tr>\n",
       "    <tr>\n",
       "      <th>...</th>\n",
       "      <td>...</td>\n",
       "      <td>...</td>\n",
       "      <td>...</td>\n",
       "      <td>...</td>\n",
       "      <td>...</td>\n",
       "    </tr>\n",
       "    <tr>\n",
       "      <th>7038</th>\n",
       "      <td>0</td>\n",
       "      <td>24</td>\n",
       "      <td>84.80</td>\n",
       "      <td>1990.50</td>\n",
       "      <td>0</td>\n",
       "    </tr>\n",
       "    <tr>\n",
       "      <th>7039</th>\n",
       "      <td>0</td>\n",
       "      <td>72</td>\n",
       "      <td>103.20</td>\n",
       "      <td>7362.90</td>\n",
       "      <td>0</td>\n",
       "    </tr>\n",
       "    <tr>\n",
       "      <th>7040</th>\n",
       "      <td>0</td>\n",
       "      <td>11</td>\n",
       "      <td>29.60</td>\n",
       "      <td>346.45</td>\n",
       "      <td>0</td>\n",
       "    </tr>\n",
       "    <tr>\n",
       "      <th>7041</th>\n",
       "      <td>1</td>\n",
       "      <td>4</td>\n",
       "      <td>74.40</td>\n",
       "      <td>306.60</td>\n",
       "      <td>1</td>\n",
       "    </tr>\n",
       "    <tr>\n",
       "      <th>7042</th>\n",
       "      <td>0</td>\n",
       "      <td>66</td>\n",
       "      <td>105.65</td>\n",
       "      <td>6844.50</td>\n",
       "      <td>0</td>\n",
       "    </tr>\n",
       "  </tbody>\n",
       "</table>\n",
       "<p>6994 rows × 5 columns</p>\n",
       "</div>"
      ],
      "text/plain": [
       "      SeniorCitizen  tenure  MonthlyCharges  TotalCharges  Churn\n",
       "0                 0       1           29.85         29.85      0\n",
       "1                 0      34           56.95       1889.50      0\n",
       "2                 0       2           53.85        108.15      1\n",
       "3                 0      45           42.30       1840.75      0\n",
       "4                 0       2           70.70        151.65      1\n",
       "...             ...     ...             ...           ...    ...\n",
       "7038              0      24           84.80       1990.50      0\n",
       "7039              0      72          103.20       7362.90      0\n",
       "7040              0      11           29.60        346.45      0\n",
       "7041              1       4           74.40        306.60      1\n",
       "7042              0      66          105.65       6844.50      0\n",
       "\n",
       "[6994 rows x 5 columns]"
      ]
     },
     "execution_count": 20,
     "metadata": {},
     "output_type": "execute_result"
    }
   ],
   "source": [
    "churnData"
   ]
  },
  {
   "cell_type": "code",
   "execution_count": 21,
   "id": "63a600a7-bbfc-4dd1-85cf-363ea82bcea1",
   "metadata": {
    "tags": []
   },
   "outputs": [],
   "source": [
    "churnData = churnData.dropna()"
   ]
  },
  {
   "cell_type": "code",
   "execution_count": 22,
   "id": "d942d5c2-18e3-4602-ab70-3d0e7a2002d9",
   "metadata": {
    "tags": []
   },
   "outputs": [],
   "source": [
    "# Reset the index of the DataFrame\n",
    "churnData.reset_index(drop=True, inplace=True)"
   ]
  },
  {
   "cell_type": "markdown",
   "id": "044336e3-b20f-464e-a60f-d22e78cb9619",
   "metadata": {},
   "source": [
    "## Split data into train and test set and apply StandardScaler"
   ]
  },
  {
   "cell_type": "code",
   "execution_count": 23,
   "id": "de46a574-9778-4d78-9887-52ca9d2bb10a",
   "metadata": {
    "tags": []
   },
   "outputs": [],
   "source": [
    "from sklearn.model_selection import train_test_split\n",
    "\n",
    "X = churnData[['tenure', 'SeniorCitizen', 'MonthlyCharges', 'TotalCharges']]\n",
    "y = churnData['Churn']\n",
    "\n",
    "from sklearn.linear_model import LogisticRegression\n",
    "from sklearn.preprocessing import StandardScaler\n",
    "from sklearn.metrics import accuracy_score, precision_score, recall_score, confusion_matrix\n",
    "\n",
    "log_model = LogisticRegression() \n",
    "\n",
    "## Data splitting\n",
    "X_train, X_test, y_train, y_test = train_test_split(X, y, test_size=0.20, random_state=11)\n",
    "\n",
    "ss = StandardScaler()\n",
    "ss.fit(X_train)\n",
    "X_train_log = ss.transform(X_train)\n",
    "X_test_log = ss.transform(X_test)\n"
   ]
  },
  {
   "cell_type": "markdown",
   "id": "2c3bf2a4-833b-48de-8b14-16fc80219f14",
   "metadata": {},
   "source": [
    "## Fit a logistic regression model on the training data "
   ]
  },
  {
   "cell_type": "code",
   "execution_count": 24,
   "id": "f546412f-db1a-43b0-84c0-0d34b3db88eb",
   "metadata": {
    "tags": []
   },
   "outputs": [
    {
     "data": {
      "text/html": [
       "<div>\n",
       "<style scoped>\n",
       "    .dataframe tbody tr th:only-of-type {\n",
       "        vertical-align: middle;\n",
       "    }\n",
       "\n",
       "    .dataframe tbody tr th {\n",
       "        vertical-align: top;\n",
       "    }\n",
       "\n",
       "    .dataframe thead th {\n",
       "        text-align: right;\n",
       "    }\n",
       "</style>\n",
       "<table border=\"1\" class=\"dataframe\">\n",
       "  <thead>\n",
       "    <tr style=\"text-align: right;\">\n",
       "      <th></th>\n",
       "      <th>Error_metric</th>\n",
       "      <th>Train</th>\n",
       "      <th>Test</th>\n",
       "    </tr>\n",
       "  </thead>\n",
       "  <tbody>\n",
       "    <tr>\n",
       "      <th>0</th>\n",
       "      <td>Accuracy</td>\n",
       "      <td>0.790548</td>\n",
       "      <td>0.801718</td>\n",
       "    </tr>\n",
       "    <tr>\n",
       "      <th>1</th>\n",
       "      <td>Precision</td>\n",
       "      <td>0.647239</td>\n",
       "      <td>0.715356</td>\n",
       "    </tr>\n",
       "    <tr>\n",
       "      <th>2</th>\n",
       "      <td>Recall</td>\n",
       "      <td>0.434156</td>\n",
       "      <td>0.487245</td>\n",
       "    </tr>\n",
       "  </tbody>\n",
       "</table>\n",
       "</div>"
      ],
      "text/plain": [
       "  Error_metric     Train      Test\n",
       "0     Accuracy  0.790548  0.801718\n",
       "1    Precision  0.647239  0.715356\n",
       "2       Recall  0.434156  0.487245"
      ]
     },
     "metadata": {},
     "output_type": "display_data"
    }
   ],
   "source": [
    "log_model.fit(X_train_log, y_train)\n",
    "\n",
    "y_pred_train_log = log_model.predict(X_train_log)\n",
    "y_pred_test_log = log_model.predict(X_test_log)\n",
    "\n",
    "performance_log = pd.DataFrame({'Error_metric': ['Accuracy','Precision','Recall'],\n",
    "                               'Train': [accuracy_score(y_train, y_pred_train_log),\n",
    "                                         precision_score(y_train, y_pred_train_log),\n",
    "                                         recall_score(y_train, y_pred_train_log)],\n",
    "                               'Test': [accuracy_score(y_test, y_pred_test_log),\n",
    "                                        precision_score(y_test, y_pred_test_log),\n",
    "                                        recall_score(y_test, y_pred_test_log)]})\n",
    "\n",
    "display(performance_log)\n"
   ]
  },
  {
   "cell_type": "markdown",
   "id": "77bde1cf-e319-4a66-86a8-6d53a060d73a",
   "metadata": {},
   "source": [
    "## Fit a KNN classifier"
   ]
  },
  {
   "cell_type": "code",
   "execution_count": 25,
   "id": "a104146d-a047-46d5-8faf-61fb5e4fd8bd",
   "metadata": {
    "tags": []
   },
   "outputs": [
    {
     "name": "stderr",
     "output_type": "stream",
     "text": [
      "/Users/matthewbatchelor/anaconda3/lib/python3.11/site-packages/sklearn/base.py:464: UserWarning: X does not have valid feature names, but KNeighborsClassifier was fitted with feature names\n",
      "  warnings.warn(\n",
      "/Users/matthewbatchelor/anaconda3/lib/python3.11/site-packages/sklearn/base.py:464: UserWarning: X does not have valid feature names, but KNeighborsClassifier was fitted with feature names\n",
      "  warnings.warn(\n"
     ]
    },
    {
     "data": {
      "text/html": [
       "<div>\n",
       "<style scoped>\n",
       "    .dataframe tbody tr th:only-of-type {\n",
       "        vertical-align: middle;\n",
       "    }\n",
       "\n",
       "    .dataframe tbody tr th {\n",
       "        vertical-align: top;\n",
       "    }\n",
       "\n",
       "    .dataframe thead th {\n",
       "        text-align: right;\n",
       "    }\n",
       "</style>\n",
       "<table border=\"1\" class=\"dataframe\">\n",
       "  <thead>\n",
       "    <tr style=\"text-align: right;\">\n",
       "      <th></th>\n",
       "      <th>Error_metric</th>\n",
       "      <th>Train</th>\n",
       "      <th>Test</th>\n",
       "    </tr>\n",
       "  </thead>\n",
       "  <tbody>\n",
       "    <tr>\n",
       "      <th>0</th>\n",
       "      <td>Accuracy</td>\n",
       "      <td>0.832796</td>\n",
       "      <td>0.762348</td>\n",
       "    </tr>\n",
       "    <tr>\n",
       "      <th>1</th>\n",
       "      <td>Precision</td>\n",
       "      <td>0.739488</td>\n",
       "      <td>0.598684</td>\n",
       "    </tr>\n",
       "    <tr>\n",
       "      <th>2</th>\n",
       "      <td>Recall</td>\n",
       "      <td>0.554870</td>\n",
       "      <td>0.464286</td>\n",
       "    </tr>\n",
       "  </tbody>\n",
       "</table>\n",
       "</div>"
      ],
      "text/plain": [
       "  Error_metric     Train      Test\n",
       "0     Accuracy  0.832796  0.762348\n",
       "1    Precision  0.739488  0.598684\n",
       "2       Recall  0.554870  0.464286"
      ]
     },
     "metadata": {},
     "output_type": "display_data"
    }
   ],
   "source": [
    "from sklearn.neighbors import KNeighborsClassifier\n",
    "\n",
    "model = KNeighborsClassifier(n_neighbors=5,weights='uniform') # declare we're using knn classification model\n",
    "model.fit(X_train, y_train) # train model\n",
    "y_pred = model.predict(X_test.values) # predict test\n",
    "y_pred_train=model.predict(X_train.values) # predict train (for sanity checks)\n",
    "\n",
    "performance_log = pd.DataFrame({'Error_metric': ['Accuracy','Precision','Recall'],\n",
    "                               'Train': [accuracy_score(y_train, y_pred_train),\n",
    "                                         precision_score(y_train, y_pred_train),\n",
    "                                         recall_score(y_train, y_pred_train)],\n",
    "                               'Test': [accuracy_score(y_test, y_pred),\n",
    "                                        precision_score(y_test, y_pred),\n",
    "                                        recall_score(y_test, y_pred)]})\n",
    "\n",
    "display(performance_log)\n",
    "\n",
    "# We do not use scaled X here as this is a distance based algorithm and scaling can affect the distances "
   ]
  },
  {
   "cell_type": "markdown",
   "id": "86bbeebb-fc73-4d0e-b24d-cc3974915519",
   "metadata": {},
   "source": [
    "## Round 2\n",
    "\n",
    "- Fit a Decision Tree Classifier on the training data.\n",
    "- Check the error metric on the test data.\n",
    "- Create a function that takes a list of integers and trains and tests a Decision Tree Classifier using each integer as max_depth"
   ]
  },
  {
   "cell_type": "markdown",
   "id": "4b7075d0-b819-4629-bf63-757b41b1a3c2",
   "metadata": {
    "tags": []
   },
   "source": [
    "## Fit a Decision Tree Classifier on the training data and check error metric on test data "
   ]
  },
  {
   "cell_type": "code",
   "execution_count": 26,
   "id": "35efa22c-38bb-4f02-9395-a515157fefdb",
   "metadata": {
    "tags": []
   },
   "outputs": [
    {
     "data": {
      "text/html": [
       "<div>\n",
       "<style scoped>\n",
       "    .dataframe tbody tr th:only-of-type {\n",
       "        vertical-align: middle;\n",
       "    }\n",
       "\n",
       "    .dataframe tbody tr th {\n",
       "        vertical-align: top;\n",
       "    }\n",
       "\n",
       "    .dataframe thead th {\n",
       "        text-align: right;\n",
       "    }\n",
       "</style>\n",
       "<table border=\"1\" class=\"dataframe\">\n",
       "  <thead>\n",
       "    <tr style=\"text-align: right;\">\n",
       "      <th></th>\n",
       "      <th>Error_metric</th>\n",
       "      <th>Train</th>\n",
       "      <th>Test</th>\n",
       "    </tr>\n",
       "  </thead>\n",
       "  <tbody>\n",
       "    <tr>\n",
       "      <th>0</th>\n",
       "      <td>Accuracy</td>\n",
       "      <td>0.783029</td>\n",
       "      <td>0.790981</td>\n",
       "    </tr>\n",
       "    <tr>\n",
       "      <th>1</th>\n",
       "      <td>Precision</td>\n",
       "      <td>0.640091</td>\n",
       "      <td>0.703252</td>\n",
       "    </tr>\n",
       "    <tr>\n",
       "      <th>2</th>\n",
       "      <td>Recall</td>\n",
       "      <td>0.385460</td>\n",
       "      <td>0.441327</td>\n",
       "    </tr>\n",
       "  </tbody>\n",
       "</table>\n",
       "</div>"
      ],
      "text/plain": [
       "  Error_metric     Train      Test\n",
       "0     Accuracy  0.783029  0.790981\n",
       "1    Precision  0.640091  0.703252\n",
       "2       Recall  0.385460  0.441327"
      ]
     },
     "metadata": {},
     "output_type": "display_data"
    }
   ],
   "source": [
    "from sklearn.metrics import accuracy_score, precision_score, recall_score, confusion_matrix\n",
    "from sklearn.model_selection import train_test_split\n",
    "from sklearn.metrics import confusion_matrix, ConfusionMatrixDisplay\n",
    "from sklearn.tree import DecisionTreeRegressor\n",
    "from sklearn.tree import DecisionTreeClassifier\n",
    "\n",
    "# Bear in mind that sklearn uses a different function for decission trees used for \n",
    "# classification ( to predict a categorical feature ): DecisionTreeClassifier() \n",
    "model = DecisionTreeClassifier(max_depth=3)\n",
    "\n",
    "model.fit(X_train, y_train)\n",
    "\n",
    "y_pred_train_dt = model.predict(X_train)\n",
    "y_pred_test_dt = model.predict(X_test)\n",
    "\n",
    "\n",
    "performance_df = pd.DataFrame({'Error_metric': ['Accuracy','Precision','Recall'],\n",
    "                               'Train': [accuracy_score(y_train, y_pred_train_dt),\n",
    "                                         precision_score(y_train, y_pred_train_dt),\n",
    "                                         recall_score(y_train, y_pred_train_dt)],\n",
    "                               'Test': [accuracy_score(y_test, y_pred_test_dt),\n",
    "                                        precision_score(y_test, y_pred_test_dt),\n",
    "                                        recall_score(y_test, y_pred_test_dt)]})\n",
    "\n",
    "display(performance_df)"
   ]
  },
  {
   "cell_type": "markdown",
   "id": "23d8ed2f-661e-46e9-9d3a-47ccdb242311",
   "metadata": {},
   "source": [
    "### Confusion matrix "
   ]
  },
  {
   "cell_type": "code",
   "execution_count": 36,
   "id": "cd79fda9-c83c-4100-be7f-8bd9294c1d7f",
   "metadata": {
    "tags": []
   },
   "outputs": [
    {
     "data": {
      "text/plain": [
       "<sklearn.metrics._plot.confusion_matrix.ConfusionMatrixDisplay at 0x12aaeb2d0>"
      ]
     },
     "execution_count": 36,
     "metadata": {},
     "output_type": "execute_result"
    },
    {
     "data": {
      "image/png": "[encoded data removed]",
      "text/plain": [
       "<Figure size 640x480 with 2 Axes>"
      ]
     },
     "metadata": {},
     "output_type": "display_data"
    }
   ],
   "source": [
    "cm = confusion_matrix(y_test, y_pred_test_dt, labels=model.classes_)\n",
    "disp = ConfusionMatrixDisplay(cm)\n",
    "disp.plot()"
   ]
  },
  {
   "cell_type": "code",
   "execution_count": null,
   "id": "01c5c2d7-1b0b-46fe-baeb-4545a3865453",
   "metadata": {},
   "outputs": [],
   "source": [
    "# Analysis: in this example, there are 219 cases where we predicted a client would be retained but where that client churned in reality "
   ]
  },
  {
   "cell_type": "markdown",
   "id": "a663bc8e-0d25-4f3b-aa0c-d91ee316df18",
   "metadata": {},
   "source": [
    "### Feature importance"
   ]
  },
  {
   "cell_type": "code",
   "execution_count": 38,
   "id": "be0c0d1f-d785-461e-b0ee-003835ce509e",
   "metadata": {
    "tags": []
   },
   "outputs": [
    {
     "data": {
      "text/plain": [
       "<BarContainer object of 4 artists>"
      ]
     },
     "execution_count": 38,
     "metadata": {},
     "output_type": "execute_result"
    },
    {
     "data": {
      "image/png": "[encoded data removed]",
      "text/plain": [
       "<Figure size 2000x1400 with 1 Axes>"
      ]
     },
     "metadata": {},
     "output_type": "display_data"
    }
   ],
   "source": [
    "import matplotlib.pyplot as plt\n",
    "\n",
    "plt.figure(figsize=(20,14))\n",
    "plt.barh(X.columns,model.feature_importances_)"
   ]
  },
  {
   "cell_type": "code",
   "execution_count": null,
   "id": "525e345c-a892-4852-9a5c-2d908e16714a",
   "metadata": {},
   "outputs": [],
   "source": [
    "# Analysis: Tenure has the most significant impact on churn "
   ]
  },
  {
   "cell_type": "markdown",
   "id": "57f211c4-4cc2-43b3-991f-ef1e4163aa39",
   "metadata": {},
   "source": [
    "## Create a function that takes a list of integers and trains and tests a Decision Tree Classifier using each integer as max_depth"
   ]
  },
  {
   "cell_type": "code",
   "execution_count": 47,
   "id": "8602ed92-c13a-4bde-8d94-6511e29191f1",
   "metadata": {
    "tags": []
   },
   "outputs": [],
   "source": [
    "from sklearn.tree import DecisionTreeClassifier\n",
    "from sklearn.model_selection import train_test_split\n",
    "from sklearn.metrics import accuracy_score, precision_score, recall_score\n",
    "\n",
    "def train_test_decision_tree(X, y):\n",
    "    \"\"\"\n",
    "    Train and test a Decision Tree Classifier with different max_depth values.\n",
    "    \n",
    "    Parameters:\n",
    "        X (array-like): Input features.\n",
    "        y (array-like): Target variable.\n",
    "        \n",
    "    Returns:\n",
    "        dict: A dictionary containing max_depth values as keys and corresponding error metrics\n",
    "              (accuracy, precision, recall) on both train and test data as values.\n",
    "    \"\"\"\n",
    "    results = {}\n",
    "    \n",
    "    # Split the data into training and testing sets\n",
    "    X_train, X_test, y_train, y_test = train_test_split(X, y, test_size=0.2, random_state=42)\n",
    "    \n",
    "    max_depth_values = range(1, 21)  # Max depth values from 1 to 20\n",
    "    \n",
    "    for max_depth in max_depth_values:\n",
    "        # Initialize and train the Decision Tree Classifier\n",
    "        clf = DecisionTreeClassifier(max_depth=max_depth, random_state=42)\n",
    "        clf.fit(X_train, y_train)\n",
    "        \n",
    "        # Make predictions on the training set\n",
    "        y_train_pred = clf.predict(X_train)\n",
    "        # Make predictions on the testing set\n",
    "        y_test_pred = clf.predict(X_test)\n",
    "        \n",
    "        # Calculate error metrics for training data\n",
    "        train_accuracy = accuracy_score(y_train, y_train_pred)\n",
    "        train_precision = precision_score(y_train, y_train_pred)\n",
    "        train_recall = recall_score(y_train, y_train_pred)\n",
    "        \n",
    "        # Calculate error metrics for testing data\n",
    "        test_accuracy = accuracy_score(y_test, y_test_pred)\n",
    "        test_precision = precision_score(y_test, y_test_pred)\n",
    "        test_recall = recall_score(y_test, y_test_pred)\n",
    "        \n",
    "        # Store the results\n",
    "        results[max_depth] = {\n",
    "            'Train Accuracy': train_accuracy,\n",
    "            'Train Precision': train_precision,\n",
    "            'Train Recall': train_recall,\n",
    "            'Test Accuracy': test_accuracy,\n",
    "            'Test Precision': test_precision,\n",
    "            'Test Recall': test_recall\n",
    "        }\n",
    "    \n",
    "    # Print the results in tabular format\n",
    "    print(\"Max Depth\\tTrain Accuracy\\tTrain Precision\\tTrain Recall\\tTest Accuracy\\tTest Precision\\tTest Recall\")\n",
    "    for max_depth, metrics in results.items():\n",
    "        print(f\"{max_depth}\\t\\t{metrics['Train Accuracy']:.4f}\\t\\t{metrics['Train Precision']:.4f}\\t\\t{metrics['Train Recall']:.4f}\\t\\t\"\n",
    "              f\"{metrics['Test Accuracy']:.4f}\\t\\t{metrics['Test Precision']:.4f}\\t\\t{metrics['Test Recall']:.4f}\")\n",
    "    \n",
    "    # Recommend the best performing max depth based on test accuracy\n",
    "    best_accuracy_depth = max(results, key=lambda x: results[x]['Test Accuracy'])\n",
    "    print(f\"\\nBest performing max depth based on Test Accuracy: \\033[1m{best_accuracy_depth}\\033[0m\")\n",
    "    \n",
    "    # Recommend the best performing max depth based on precision\n",
    "    best_precision_depth = max(results, key=lambda x: results[x]['Test Precision'])\n",
    "    print(f\"Best performing max depth based on Precision: \\033[1m{best_precision_depth}\\033[0m\")\n",
    "    \n",
    "    # Recommend the best performing max depth based on recall\n",
    "    best_recall_depth = max(results, key=lambda x: results[x]['Test Recall'])\n",
    "    print(f\"Best performing max depth based on Recall: \\033[1m{best_recall_depth}\\033[0m\")\n",
    "    \n",
    "    return results\n",
    "\n",
    "# Example usage:\n",
    "# results = train_test_decision_tree(X, y)"
   ]
  },
  {
   "cell_type": "code",
   "execution_count": 48,
   "id": "83b2b97f-362b-495e-b07c-331e69f0fee8",
   "metadata": {
    "tags": []
   },
   "outputs": [
    {
     "name": "stderr",
     "output_type": "stream",
     "text": [
      "/Users/matthewbatchelor/anaconda3/lib/python3.11/site-packages/sklearn/metrics/_classification.py:1469: UndefinedMetricWarning: Precision is ill-defined and being set to 0.0 due to no predicted samples. Use `zero_division` parameter to control this behavior.\n",
      "  _warn_prf(average, modifier, msg_start, len(result))\n",
      "/Users/matthewbatchelor/anaconda3/lib/python3.11/site-packages/sklearn/metrics/_classification.py:1469: UndefinedMetricWarning: Precision is ill-defined and being set to 0.0 due to no predicted samples. Use `zero_division` parameter to control this behavior.\n",
      "  _warn_prf(average, modifier, msg_start, len(result))\n"
     ]
    },
    {
     "name": "stdout",
     "output_type": "stream",
     "text": [
      "Max Depth\tTrain Accuracy\tTrain Precision\tTrain Recall\tTest Accuracy\tTest Precision\tTest Recall\n",
      "1\t\t0.7333\t\t0.0000\t\t0.0000\t\t0.7423\t\t0.0000\t\t0.0000\n",
      "2\t\t0.7837\t\t0.6506\t\t0.4087\t\t0.7888\t\t0.6540\t\t0.3833\n",
      "3\t\t0.7837\t\t0.6506\t\t0.4087\t\t0.7888\t\t0.6540\t\t0.3833\n",
      "4\t\t0.7868\t\t0.6253\t\t0.5007\t\t0.7924\t\t0.6250\t\t0.4861\n",
      "5\t\t0.7922\t\t0.6214\t\t0.5651\t\t0.7824\t\t0.5859\t\t0.5306\n",
      "6\t\t0.8002\t\t0.6725\t\t0.4893\t\t0.7731\t\t0.5817\t\t0.4250\n",
      "7\t\t0.8126\t\t0.6905\t\t0.5389\t\t0.7724\t\t0.5755\t\t0.4444\n",
      "8\t\t0.8228\t\t0.7367\t\t0.5221\t\t0.7838\t\t0.6098\t\t0.4472\n",
      "9\t\t0.8387\t\t0.7369\t\t0.6148\t\t0.7595\t\t0.5403\t\t0.4472\n",
      "10\t\t0.8561\t\t0.7762\t\t0.6470\t\t0.7674\t\t0.5589\t\t0.4611\n",
      "11\t\t0.8756\t\t0.8372\t\t0.6624\t\t0.7566\t\t0.5362\t\t0.4111\n",
      "12\t\t0.8933\t\t0.8498\t\t0.7289\t\t0.7559\t\t0.5309\t\t0.4528\n",
      "13\t\t0.9132\t\t0.8960\t\t0.7631\t\t0.7495\t\t0.5164\t\t0.4361\n",
      "14\t\t0.9302\t\t0.9237\t\t0.8047\t\t0.7487\t\t0.5139\t\t0.4611\n",
      "15\t\t0.9397\t\t0.9452\t\t0.8215\t\t0.7337\t\t0.4811\t\t0.4250\n",
      "16\t\t0.9542\t\t0.9530\t\t0.8711\t\t0.7373\t\t0.4897\t\t0.4639\n",
      "17\t\t0.9638\t\t0.9587\t\t0.9034\t\t0.7301\t\t0.4754\t\t0.4556\n",
      "18\t\t0.9739\t\t0.9706\t\t0.9302\t\t0.7251\t\t0.4663\t\t0.4611\n",
      "19\t\t0.9787\t\t0.9865\t\t0.9329\t\t0.7208\t\t0.4579\t\t0.4528\n",
      "20\t\t0.9828\t\t0.9820\t\t0.9530\t\t0.7201\t\t0.4587\t\t0.4778\n",
      "\n",
      "Best performing max depth based on Test Accuracy: \u001b[1m4\u001b[0m\n",
      "Best performing max depth based on Precision: \u001b[1m2\u001b[0m\n",
      "Best performing max depth based on Recall: \u001b[1m5\u001b[0m\n",
      "{1: {'Train Accuracy': 0.7332617257429288, 'Train Precision': 0.0, 'Train Recall': 0.0, 'Test Accuracy': 0.7423049391553329, 'Test Precision': 0.0, 'Test Recall': 0.0}, 2: {'Train Accuracy': 0.7837450769781596, 'Train Precision': 0.6506410256410257, 'Train Recall': 0.4087248322147651, 'Test Accuracy': 0.7888332140300645, 'Test Precision': 0.6540284360189573, 'Test Recall': 0.38333333333333336}, 3: {'Train Accuracy': 0.7837450769781596, 'Train Precision': 0.6506410256410257, 'Train Recall': 0.4087248322147651, 'Test Accuracy': 0.7888332140300645, 'Test Precision': 0.6540284360189573, 'Test Recall': 0.38333333333333336}, 4: {'Train Accuracy': 0.7867883995703545, 'Train Precision': 0.625314333612741, 'Train Recall': 0.5006711409395973, 'Test Accuracy': 0.7924123120973514, 'Test Precision': 0.625, 'Test Recall': 0.4861111111111111}, 5: {'Train Accuracy': 0.7921589688506981, 'Train Precision': 0.6214022140221402, 'Train Recall': 0.5651006711409396, 'Test Accuracy': 0.7823908375089478, 'Test Precision': 0.5858895705521472, 'Test Recall': 0.5305555555555556}, 6: {'Train Accuracy': 0.8002148227712137, 'Train Precision': 0.672509225092251, 'Train Recall': 0.489261744966443, 'Test Accuracy': 0.7730851825340014, 'Test Precision': 0.5817490494296578, 'Test Recall': 0.425}, 7: {'Train Accuracy': 0.8125671321160043, 'Train Precision': 0.6904557179707652, 'Train Recall': 0.5389261744966443, 'Test Accuracy': 0.772369362920544, 'Test Precision': 0.5755395683453237, 'Test Recall': 0.4444444444444444}, 8: {'Train Accuracy': 0.8227712137486574, 'Train Precision': 0.7367424242424242, 'Train Recall': 0.5221476510067115, 'Test Accuracy': 0.7838224767358626, 'Test Precision': 0.6098484848484849, 'Test Recall': 0.44722222222222224}, 9: {'Train Accuracy': 0.838703902613677, 'Train Precision': 0.7369267900241352, 'Train Recall': 0.614765100671141, 'Test Accuracy': 0.7594846098783107, 'Test Precision': 0.540268456375839, 'Test Recall': 0.44722222222222224}, 10: {'Train Accuracy': 0.8560687432867884, 'Train Precision': 0.7761674718196457, 'Train Recall': 0.6469798657718121, 'Test Accuracy': 0.7673586256263422, 'Test Precision': 0.5589225589225589, 'Test Recall': 0.46111111111111114}, 11: {'Train Accuracy': 0.8755818116720372, 'Train Precision': 0.8371501272264631, 'Train Recall': 0.6624161073825503, 'Test Accuracy': 0.7566213314244811, 'Test Precision': 0.5362318840579711, 'Test Recall': 0.4111111111111111}, 12: {'Train Accuracy': 0.8933046902971715, 'Train Precision': 0.8497652582159625, 'Train Recall': 0.7288590604026846, 'Test Accuracy': 0.7559055118110236, 'Test Precision': 0.5309446254071661, 'Test Recall': 0.4527777777777778}, 13: {'Train Accuracy': 0.9131757966344433, 'Train Precision': 0.8959810874704491, 'Train Recall': 0.7630872483221477, 'Test Accuracy': 0.7494631352899069, 'Test Precision': 0.5164473684210527, 'Test Recall': 0.4361111111111111}, 14: {'Train Accuracy': 0.9301825993555317, 'Train Precision': 0.923728813559322, 'Train Recall': 0.8046979865771812, 'Test Accuracy': 0.7487473156764496, 'Test Precision': 0.5139318885448917, 'Test Recall': 0.46111111111111114}, 15: {'Train Accuracy': 0.9396706050841389, 'Train Precision': 0.9451737451737452, 'Train Recall': 0.8214765100671141, 'Test Accuracy': 0.733715103793844, 'Test Precision': 0.4811320754716981, 'Test Recall': 0.425}, 16: {'Train Accuracy': 0.9541711421410669, 'Train Precision': 0.9530102790014684, 'Train Recall': 0.8711409395973154, 'Test Accuracy': 0.737294201861131, 'Test Precision': 0.4897360703812317, 'Test Recall': 0.4638888888888889}, 17: {'Train Accuracy': 0.9638381668456857, 'Train Precision': 0.9586894586894587, 'Train Recall': 0.9033557046979865, 'Test Accuracy': 0.7301360057265569, 'Test Precision': 0.4753623188405797, 'Test Recall': 0.45555555555555555}, 18: {'Train Accuracy': 0.9738632295023273, 'Train Precision': 0.9705882352941176, 'Train Recall': 0.9302013422818792, 'Test Accuracy': 0.725125268432355, 'Test Precision': 0.46629213483146065, 'Test Recall': 0.46111111111111114}, 19: {'Train Accuracy': 0.9786967418546366, 'Train Precision': 0.9865152590489709, 'Train Recall': 0.9328859060402684, 'Test Accuracy': 0.7208303507516106, 'Test Precision': 0.45786516853932585, 'Test Recall': 0.4527777777777778}, 20: {'Train Accuracy': 0.9828141783029001, 'Train Precision': 0.9820193637621023, 'Train Recall': 0.9530201342281879, 'Test Accuracy': 0.7201145311381532, 'Test Precision': 0.45866666666666667, 'Test Recall': 0.4777777777777778}}\n"
     ]
    }
   ],
   "source": [
    "results = train_test_decision_tree(X, y)\n",
    "print(results)"
   ]
  },
  {
   "cell_type": "code",
   "execution_count": null,
   "id": "bc52cb88-c364-48c4-bcb5-07abc5db425c",
   "metadata": {},
   "outputs": [],
   "source": [
    "# Analysis: As we aim to optimise to reduce false negatives (clients we predict to be retained but who indeed churn) so we should optimise for recall\n",
    "# In this case we should set max depth of decision tree at 5 "
   ]
  }
 ],
 "metadata": {
  "kernelspec": {
   "display_name": "Python 3 (ipykernel)",
   "language": "python",
   "name": "python3"
  },
  "language_info": {
   "codemirror_mode": {
    "name": "ipython",
    "version": 3
   },
   "file_extension": ".py",
   "mimetype": "text/x-python",
   "name": "python",
   "nbconvert_exporter": "python",
   "pygments_lexer": "ipython3",
   "version": "3.11.5"
  }
 },
 "nbformat": 4,
 "nbformat_minor": 5
}
