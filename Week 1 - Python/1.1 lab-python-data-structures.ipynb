{
 "cells": [
  {
   "cell_type": "markdown",
   "metadata": {
    "tags": []
   },
   "source": [
    "# Lab | Data Structures "
   ]
  },
  {
   "cell_type": "markdown",
   "metadata": {},
   "source": [
    "## Exercise: Managing Customer Orders\n",
    "\n",
    "As part of a business venture, you are starting an online store that sells various products. To ensure smooth operations, you need to develop a program that manages customer orders and inventory.\n",
    "\n",
    "Follow the steps below to complete the exercise:\n",
    "\n",
    "1. Define a list called `products` that contains the following items: \"t-shirt\", \"mug\", \"hat\", \"book\", \"keychain\".\n",
    "\n",
    "2. Create an empty dictionary called `inventory`.\n",
    "\n",
    "3. Ask the user to input the quantity of each product available in the inventory. Use the product names from the `products` list as keys in the `inventory` dictionary and assign the respective quantities as values.\n",
    "\n",
    "4. Create an empty set called `customer_orders`.\n",
    "\n",
    "5. Ask the user to input the name of three products that a customer wants to order (from those in the products list, meaning three products out of \"t-shirt\", \"mug\", \"hat\", \"book\" or \"keychain\". Add each product name to the `customer_orders` set.\n",
    "\n",
    "6. Print the products in the `customer_orders` set.\n",
    "\n",
    "7. Calculate the following order statistics:\n",
    "   - Total Products Ordered: The total number of products in the `customer_orders` set.\n",
    "   - Percentage of Products Ordered: The percentage of products ordered compared to the total available products.\n",
    "   \n",
    "   Store these statistics in a tuple called `order_status`.\n",
    "\n",
    "8. Print the order statistics using the following format:\n",
    "   ```\n",
    "   Order Statistics:\n",
    "   Total Products Ordered: <total_products_ordered>\n",
    "   Percentage of Products Ordered: <percentage_ordered>% \n",
    "   ```\n",
    "\n",
    "9. Update the inventory by subtracting 1 from the quantity of each product. Modify the `inventory` dictionary accordingly.\n",
    "\n",
    "10. Print the updated inventory, displaying the quantity of each product on separate lines.\n",
    "\n",
    "Solve the exercise by implementing the steps using the Python concepts of lists, dictionaries, sets, and basic input/output operations. "
   ]
  },
  {
   "cell_type": "code",
   "execution_count": 1,
   "metadata": {},
   "outputs": [
    {
     "name": "stdout",
     "output_type": "stream",
     "text": [
      "['t-shirt', 'mug', 'hat', 'book', 'keychain']\n"
     ]
    }
   ],
   "source": [
    "#1 Define a list called products that contains the following items: \"t-shirt\", \"mug\", \"hat\", \"book\", \"keychain\"\n",
    "\n",
    "products = [\"t-shirt\", \"mug\", \"hat\", \"book\", \"keychain\"]\n",
    "print(products)"
   ]
  },
  {
   "cell_type": "code",
   "execution_count": 2,
   "metadata": {},
   "outputs": [
    {
     "name": "stdout",
     "output_type": "stream",
     "text": [
      "{}\n"
     ]
    }
   ],
   "source": [
    "#2 Create an empty dictionary called inventory\n",
    "\n",
    "inventory = {}\n",
    "print (inventory)"
   ]
  },
  {
   "cell_type": "code",
   "execution_count": 3,
   "metadata": {},
   "outputs": [
    {
     "name": "stdout",
     "output_type": "stream",
     "text": [
      "how many t-shirts would you like?: 5\n",
      "you have selected 5 tshirts\n",
      "how many mugs would you like?: 5\n",
      "you have selected 5 mugs\n",
      "how many hats would you like?: 5\n",
      "you have selected 5 hats\n",
      "how many books would you like?: 5\n",
      "you have selected 5 books\n",
      "how many keychains would you like?: 5\n",
      "you have selected 5 keychains\n"
     ]
    }
   ],
   "source": [
    "# Ask the user to input the quantity of each product available in the inventory. Use the product names from the products list as keys in the inventory dictionary and assign the respective quantities as values.\n",
    "# Part 1 / 2 \n",
    "\n",
    "tshirt = input(\"how many t-shirts would you like?: \")\n",
    "tshirt_int = int(tshirt)\n",
    "print(f\"you have selected {tshirt_int} tshirts\")\n",
    "\n",
    "mug = input(\"how many mugs would you like?: \")\n",
    "mug_int = int(mug)\n",
    "print(f\"you have selected {mug_int} mugs\")\n",
    "\n",
    "\n",
    "hat = input(\"how many hats would you like?: \")\n",
    "hat_int = int(hat)\n",
    "print(f\"you have selected {hat_int} hats\")\n",
    "\n",
    "book = input(\"how many books would you like?: \")\n",
    "book_int = int(book)\n",
    "print(f\"you have selected {book_int} books\")\n",
    "\n",
    "keychain = input(\"how many keychains would you like?: \")\n",
    "keychain_int = int(keychain)\n",
    "print(f\"you have selected {keychain_int} keychains\")"
   ]
  },
  {
   "cell_type": "code",
   "execution_count": 4,
   "metadata": {},
   "outputs": [
    {
     "name": "stdout",
     "output_type": "stream",
     "text": [
      "{'tshirts': 5, 'mugs': 5, 'hats': 5, 'books': 5, 'keychains': 5}\n"
     ]
    }
   ],
   "source": [
    "# Ask the user to input the quantity of each product available in the inventory. Use the product names from the products list as keys in the inventory dictionary and assign the respective quantities as values.\n",
    "# Part 2 / 2 \n",
    "\n",
    "inventory ['tshirts'] = tshirt_int\n",
    "inventory ['mugs'] = mug_int\n",
    "inventory ['hats'] = hat_int\n",
    "inventory ['books'] = book_int\n",
    "inventory ['keychains'] = keychain_int \n",
    "print (inventory)"
   ]
  },
  {
   "cell_type": "code",
   "execution_count": 6,
   "metadata": {},
   "outputs": [],
   "source": [
    "# Create an empty set called customer_orders \n",
    "\n",
    "customer_orders = set()"
   ]
  },
  {
   "cell_type": "code",
   "execution_count": 8,
   "metadata": {},
   "outputs": [
    {
     "name": "stdout",
     "output_type": "stream",
     "text": [
      "[('tshirts', 5), ('mugs', 5), ('hats', 5)]\n"
     ]
    }
   ],
   "source": [
    "# Ask the user to input the name of three products that a customer wants to order (from those in the products list, meaning three products out of \"t-shirt\", \"mug\", \"hat\", \"book\" or \"keychain\". Add each product name to the customer_orders set.\n",
    "\n",
    "inventory = {'tshirts': tshirt_int, 'mugs': mug_int, 'hats': hat_int, 'books': book_int, 'keychains': keychain_int}\n",
    "first_three_items = list(inventory.items())[:3]\n",
    "print (first_three_items)\n",
    "\n",
    "#Note: solution above missed the point; correct solution in next cell. "
   ]
  },
  {
   "cell_type": "code",
   "execution_count": 9,
   "metadata": {},
   "outputs": [
    {
     "name": "stdout",
     "output_type": "stream",
     "text": [
      "Enter the name of a product that a customer wants to order: hat\n",
      "Enter the name of another product that a customer wants to order: keychain \n",
      "Enter the name of one more product that a customer wants to order: mug\n"
     ]
    }
   ],
   "source": [
    "# IronHack Solution: Ask the user to input the name of three products that a customer wants to order (from those in the products list, meaning three products out of \"t-shirt\", \"mug\", \"hat\", \"book\" or \"keychain\". Add each product name to the customer_orders set.\n",
    "\n",
    "product_name = input(\"Enter the name of a product that a customer wants to order: \")\n",
    "customer_orders.add(product_name)\n",
    "\n",
    "product_name = input(\"Enter the name of another product that a customer wants to order: \")\n",
    "customer_orders.add(product_name)\n",
    "\n",
    "product_name = input(\"Enter the name of one more product that a customer wants to order: \")\n",
    "customer_orders.add(product_name)"
   ]
  },
  {
   "cell_type": "code",
   "execution_count": 10,
   "metadata": {},
   "outputs": [
    {
     "name": "stdout",
     "output_type": "stream",
     "text": [
      "dict_items([('tshirts', 5), ('mugs', 5), ('hats', 5), ('books', 5), ('keychains', 5)])\n"
     ]
    }
   ],
   "source": [
    "# Add each product name to the customer_orders set. \n",
    "\n",
    "customer_orders = inventory.items()\n",
    "print (customer_orders)"
   ]
  },
  {
   "cell_type": "code",
   "execution_count": 11,
   "metadata": {},
   "outputs": [
    {
     "name": "stdout",
     "output_type": "stream",
     "text": [
      "Products in customer orders: dict_items([('tshirts', 5), ('mugs', 5), ('hats', 5), ('books', 5), ('keychains', 5)])\n"
     ]
    }
   ],
   "source": [
    "# IronHack solution: Add each product name to the customer_orders set. \n",
    "\n",
    "print(\"Products in customer orders:\", customer_orders)"
   ]
  },
  {
   "cell_type": "code",
   "execution_count": 13,
   "metadata": {},
   "outputs": [
    {
     "name": "stdout",
     "output_type": "stream",
     "text": [
      "Order Statistics:\n",
      "Total Products Ordered: 5\n",
      "Percentage of Unique Products Ordered: 100.0\n"
     ]
    }
   ],
   "source": [
    "#IronHack solution: Calculate the following order statistics:\n",
    "\n",
    "#Total Products Ordered: The total number of products in the customer_orders set.\n",
    "#Percentage of Products Ordered: The percentage of products ordered compared to the total available products.\n",
    "#Store these statistics in a tuple called order_status.\n",
    "\n",
    "total_products_ordered = len(customer_orders)\n",
    "percentage_ordered = (total_products_ordered / len(products)) * 100\n",
    "order_status = (total_products_ordered, percentage_ordered)\n",
    "\n",
    "# Step 8\n",
    "print(\"Order Statistics:\")\n",
    "print(\"Total Products Ordered:\", order_status[0])\n",
    "print(\"Percentage of Unique Products Ordered:\", order_status[1])"
   ]
  },
  {
   "cell_type": "code",
   "execution_count": 19,
   "metadata": {},
   "outputs": [
    {
     "name": "stdout",
     "output_type": "stream",
     "text": [
      "Updated Inventory:\n",
      "tshirts: 3\n",
      "mugs: 4\n",
      "hats: 4\n",
      "books: 4\n",
      "keychains: 4\n"
     ]
    }
   ],
   "source": [
    "# IronHack solution: Update the inventory by subtracting 1 from the quantity of each product. Modify the inventory dictionary accordingly.\n",
    "\n",
    "inventory[\"tshirts\"] -= 1\n",
    "inventory[\"mugs\"] -= 1\n",
    "inventory[\"hats\"] -= 1\n",
    "inventory[\"books\"] -= 1\n",
    "inventory[\"keychains\"] -= 1\n",
    "\n",
    "print(\"Updated Inventory:\")\n",
    "print(\"tshirts:\", inventory[\"tshirts\"])\n",
    "print(\"mugs:\", inventory[\"mugs\"])\n",
    "print(\"hats:\", inventory[\"hats\"])\n",
    "print(\"books:\", inventory[\"books\"])\n",
    "print(\"keychains:\", inventory[\"keychains\"])"
   ]
  },
  {
   "cell_type": "code",
   "execution_count": null,
   "metadata": {},
   "outputs": [],
   "source": []
  }
 ],
 "metadata": {
  "kernelspec": {
   "display_name": "Python 3 (ipykernel)",
   "language": "python",
   "name": "python3"
  },
  "language_info": {
   "codemirror_mode": {
    "name": "ipython",
    "version": 3
   },
   "file_extension": ".py",
   "mimetype": "text/x-python",
   "name": "python",
   "nbconvert_exporter": "python",
   "pygments_lexer": "ipython3",
   "version": "3.11.5"
  }
 },
 "nbformat": 4,
 "nbformat_minor": 4
}
