{
 "cells": [
  {
   "cell_type": "markdown",
   "id": "695556ae",
   "metadata": {},
   "source": [
    "#### Instructions"
   ]
  },
  {
   "cell_type": "code",
   "execution_count": null,
   "id": "5aa4af85",
   "metadata": {},
   "outputs": [],
   "source": [
    "# 1. \n",
    "# It is assumed that the mean systolic blood pressure is `μ = 120 mm Hg`. \n",
    "# In the Honolulu Heart Study, a sample of `n = 100` people had \n",
    "# an average systolic blood pressure of 130.1 mm Hg with a standard deviation of 21.21 mm Hg. \n",
    "# Is the group significantly different (with respect to systolic blood pressure!) from the regular population?\n",
    "\n",
    "   # - Set up the hypothesis test.\n",
    "   # - Write down all the steps followed for setting up the test.\n",
    "   # - Calculate the test statistic by hand and also code it in Python. It should be 4.76190. What decision can you make based on this calculated value?\n",
    "\n",
    "# Hint: here is the statistic [table](https://yuppal.people.ysu.edu/econ_3790/t-table.pdf ) \n",
    "\n",
    "### Optional\n",
    "\n",
    "# 2. In a packing plant, a machine packs cartons with jars. It is supposed that a new machine will pack faster on the average than the machine currently used. To test that hypothesis, the times it takes each machine to pack ten cartons are recorded. The results, in seconds, are shown in the tables in the file `Data/machine.txt`. Assume that there is sufficient evidence to conduct the t test, does the data provide sufficient evidence to show if one machine is better than the other.\n",
    "\n",
    "# Hint: use two sample t-test\n",
    "\n",
    "# t= (sample_mean(x1) - sample_mean(x2)) / sqrt(square(s1)/n1  +  square(s2)/n2 )"
   ]
  },
  {
   "cell_type": "markdown",
   "id": "0debf68f",
   "metadata": {},
   "source": [
    "#### Solution "
   ]
  },
  {
   "cell_type": "code",
   "execution_count": null,
   "id": "ca4ad700",
   "metadata": {},
   "outputs": [],
   "source": [
    "# Null-hypothesis is that the population has mean systolic blood pressure is `μ = 120 mm Hg`, \n",
    "# consistent with wider population \n",
    "\n",
    "# This null-hypothesis can be denoted as:\n",
    "# Ho: μ = 120 mm Hg\n",
    "# Ha: μ != 120 mm Hg  # Note: this is not a directional hypothesis \n",
    "\n",
    "# Sample size > 30 however we do not know the standard deviation of the population. \n",
    "# Therefore, t-shape distribution. "
   ]
  },
  {
   "cell_type": "code",
   "execution_count": 9,
   "id": "3bf3771d",
   "metadata": {},
   "outputs": [],
   "source": [
    "import numpy as np\n",
    "import pandas as pd\n",
    "import scipy.stats as stats\n",
    "import matplotlib.pyplot as plt\n",
    "import seaborn as sns\n",
    "import math\n",
    "\n",
    "%matplotlib inline"
   ]
  },
  {
   "cell_type": "code",
   "execution_count": 15,
   "id": "f2429304",
   "metadata": {},
   "outputs": [],
   "source": [
    "# Data to calculate critical value \n",
    "\n",
    "sample_mean = 130.1\n",
    "population_mean = 120 # technically, it's the assumed mean \n",
    "sample_standard_error = 21.21/math.sqrt(100) # sample_standard_deviation / sq root of sample size \n",
    "significance_level = 0.05\n",
    "sample_size = 100 "
   ]
  },
  {
   "cell_type": "code",
   "execution_count": 16,
   "id": "2a58499b",
   "metadata": {},
   "outputs": [
    {
     "data": {
      "text/plain": [
       "2.121"
      ]
     },
     "execution_count": 16,
     "metadata": {},
     "output_type": "execute_result"
    }
   ],
   "source": [
    "sample_standard_error"
   ]
  },
  {
   "cell_type": "code",
   "execution_count": 17,
   "id": "041e42ca",
   "metadata": {},
   "outputs": [],
   "source": [
    "t_value = (sample_mean - population_mean)/ sample_standard_error"
   ]
  },
  {
   "cell_type": "code",
   "execution_count": 18,
   "id": "daec7258",
   "metadata": {},
   "outputs": [
    {
     "data": {
      "text/plain": [
       "4.761904761904759"
      ]
     },
     "execution_count": 18,
     "metadata": {},
     "output_type": "execute_result"
    }
   ],
   "source": [
    "t_value "
   ]
  },
  {
   "cell_type": "code",
   "execution_count": 23,
   "id": "8ac2b516",
   "metadata": {},
   "outputs": [],
   "source": [
    "df = 100-1 # sample size -1 "
   ]
  },
  {
   "cell_type": "code",
   "execution_count": 33,
   "id": "3532fbf7",
   "metadata": {},
   "outputs": [
    {
     "name": "stdout",
     "output_type": "stream",
     "text": [
      "The critical value corresponding to a 0.95 area of a t-distribution is: 1.98\n"
     ]
    }
   ],
   "source": [
    "# critical value for sample of 100 and confidence of 95% = 1.984\n",
    "\n",
    "zc = stats.t.ppf(1-0.025,df) # The 0.05 is divided by 2 as it is 2-tailed\n",
    "print(\"The critical value corresponding to a 0.95 area of a t-distribution is: {:.2f}\".format(zc))"
   ]
  },
  {
   "cell_type": "code",
   "execution_count": 34,
   "id": "3b384535",
   "metadata": {},
   "outputs": [],
   "source": [
    "# t_value is greater than critical value \n",
    "\n",
    "# Therefore we can confidently reject the null hypothesis that the population mean systolic blood pressure of `μ = 120 mm Hg`"
   ]
  },
  {
   "cell_type": "code",
   "execution_count": 37,
   "id": "345c7f5f",
   "metadata": {},
   "outputs": [],
   "source": [
    "p_value = stats.t.sf(4.76,df=99)"
   ]
  },
  {
   "cell_type": "code",
   "execution_count": 38,
   "id": "dc6c25ee",
   "metadata": {},
   "outputs": [
    {
     "data": {
      "text/plain": [
       "3.3066342302957467e-06"
      ]
     },
     "execution_count": 38,
     "metadata": {},
     "output_type": "execute_result"
    }
   ],
   "source": [
    "p_value"
   ]
  },
  {
   "cell_type": "code",
   "execution_count": null,
   "id": "7c950713",
   "metadata": {},
   "outputs": [],
   "source": [
    "# p_value can be thought of as 0.000003 \n",
    "\n",
    "# If null-hypothesis were true, the probability of achieving this outcome would be extremely low (0.003%)"
   ]
  }
 ],
 "metadata": {
  "kernelspec": {
   "display_name": "Python 3 (ipykernel)",
   "language": "python",
   "name": "python3"
  },
  "language_info": {
   "codemirror_mode": {
    "name": "ipython",
    "version": 3
   },
   "file_extension": ".py",
   "mimetype": "text/x-python",
   "name": "python",
   "nbconvert_exporter": "python",
   "pygments_lexer": "ipython3",
   "version": "3.11.5"
  }
 },
 "nbformat": 4,
 "nbformat_minor": 5
}
