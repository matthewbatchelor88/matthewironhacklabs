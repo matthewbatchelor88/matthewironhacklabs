{
 "cells": [
  {
   "cell_type": "markdown",
   "id": "915af58e",
   "metadata": {},
   "source": [
    "# Lab | Model Fitting and Evaluating."
   ]
  },
  {
   "cell_type": "markdown",
   "id": "0c1dd24b",
   "metadata": {},
   "source": [
    "## Activity (Tuesday)\n",
    "\n",
    "## Linear Regression\n",
    "\n",
    "## 1 X-y split (y is the target variable, in this case, \"total claim amount\")\n",
    "## 2 Train-test split.\n",
    "## 3 Standardize the data (after the data split!).\n",
    "## 4 Apply linear regression.\n",
    "## 5 Model Interpretation."
   ]
  },
  {
   "cell_type": "markdown",
   "id": "b5f3870d",
   "metadata": {},
   "source": [
    "## Load the data "
   ]
  },
  {
   "cell_type": "code",
   "execution_count": 320,
   "id": "4c36e3d1",
   "metadata": {},
   "outputs": [],
   "source": [
    "import pandas as pd \n",
    "import seaborn as sns"
   ]
  },
  {
   "cell_type": "code",
   "execution_count": 321,
   "id": "e4f8848b",
   "metadata": {},
   "outputs": [],
   "source": [
    "csv_path = '/Users/matthewbatchelor/Downloads/marketing_customer_analysis_clean.csv'"
   ]
  },
  {
   "cell_type": "code",
   "execution_count": 322,
   "id": "13606b4d",
   "metadata": {},
   "outputs": [],
   "source": [
    "df = pd.read_csv(csv_path)"
   ]
  },
  {
   "cell_type": "code",
   "execution_count": 323,
   "id": "bdd4fb50",
   "metadata": {},
   "outputs": [
    {
     "data": {
      "text/html": [
       "<div>\n",
       "<style scoped>\n",
       "    .dataframe tbody tr th:only-of-type {\n",
       "        vertical-align: middle;\n",
       "    }\n",
       "\n",
       "    .dataframe tbody tr th {\n",
       "        vertical-align: top;\n",
       "    }\n",
       "\n",
       "    .dataframe thead th {\n",
       "        text-align: right;\n",
       "    }\n",
       "</style>\n",
       "<table border=\"1\" class=\"dataframe\">\n",
       "  <thead>\n",
       "    <tr style=\"text-align: right;\">\n",
       "      <th></th>\n",
       "      <th>unnamed:_0</th>\n",
       "      <th>customer</th>\n",
       "      <th>state</th>\n",
       "      <th>customer_lifetime_value</th>\n",
       "      <th>response</th>\n",
       "      <th>coverage</th>\n",
       "      <th>education</th>\n",
       "      <th>effective_to_date</th>\n",
       "      <th>employmentstatus</th>\n",
       "      <th>gender</th>\n",
       "      <th>...</th>\n",
       "      <th>number_of_policies</th>\n",
       "      <th>policy_type</th>\n",
       "      <th>policy</th>\n",
       "      <th>renew_offer_type</th>\n",
       "      <th>sales_channel</th>\n",
       "      <th>total_claim_amount</th>\n",
       "      <th>vehicle_class</th>\n",
       "      <th>vehicle_size</th>\n",
       "      <th>vehicle_type</th>\n",
       "      <th>month</th>\n",
       "    </tr>\n",
       "  </thead>\n",
       "  <tbody>\n",
       "    <tr>\n",
       "      <th>0</th>\n",
       "      <td>0</td>\n",
       "      <td>DK49336</td>\n",
       "      <td>Arizona</td>\n",
       "      <td>4809.216960</td>\n",
       "      <td>No</td>\n",
       "      <td>Basic</td>\n",
       "      <td>College</td>\n",
       "      <td>2011-02-18</td>\n",
       "      <td>Employed</td>\n",
       "      <td>M</td>\n",
       "      <td>...</td>\n",
       "      <td>9</td>\n",
       "      <td>Corporate Auto</td>\n",
       "      <td>Corporate L3</td>\n",
       "      <td>Offer3</td>\n",
       "      <td>Agent</td>\n",
       "      <td>292.800000</td>\n",
       "      <td>Four-Door Car</td>\n",
       "      <td>Medsize</td>\n",
       "      <td>A</td>\n",
       "      <td>2</td>\n",
       "    </tr>\n",
       "    <tr>\n",
       "      <th>1</th>\n",
       "      <td>1</td>\n",
       "      <td>KX64629</td>\n",
       "      <td>California</td>\n",
       "      <td>2228.525238</td>\n",
       "      <td>No</td>\n",
       "      <td>Basic</td>\n",
       "      <td>College</td>\n",
       "      <td>2011-01-18</td>\n",
       "      <td>Unemployed</td>\n",
       "      <td>F</td>\n",
       "      <td>...</td>\n",
       "      <td>1</td>\n",
       "      <td>Personal Auto</td>\n",
       "      <td>Personal L3</td>\n",
       "      <td>Offer4</td>\n",
       "      <td>Call Center</td>\n",
       "      <td>744.924331</td>\n",
       "      <td>Four-Door Car</td>\n",
       "      <td>Medsize</td>\n",
       "      <td>A</td>\n",
       "      <td>1</td>\n",
       "    </tr>\n",
       "    <tr>\n",
       "      <th>2</th>\n",
       "      <td>2</td>\n",
       "      <td>LZ68649</td>\n",
       "      <td>Washington</td>\n",
       "      <td>14947.917300</td>\n",
       "      <td>No</td>\n",
       "      <td>Basic</td>\n",
       "      <td>Bachelor</td>\n",
       "      <td>2011-02-10</td>\n",
       "      <td>Employed</td>\n",
       "      <td>M</td>\n",
       "      <td>...</td>\n",
       "      <td>2</td>\n",
       "      <td>Personal Auto</td>\n",
       "      <td>Personal L3</td>\n",
       "      <td>Offer3</td>\n",
       "      <td>Call Center</td>\n",
       "      <td>480.000000</td>\n",
       "      <td>SUV</td>\n",
       "      <td>Medsize</td>\n",
       "      <td>A</td>\n",
       "      <td>2</td>\n",
       "    </tr>\n",
       "    <tr>\n",
       "      <th>3</th>\n",
       "      <td>3</td>\n",
       "      <td>XL78013</td>\n",
       "      <td>Oregon</td>\n",
       "      <td>22332.439460</td>\n",
       "      <td>Yes</td>\n",
       "      <td>Extended</td>\n",
       "      <td>College</td>\n",
       "      <td>2011-01-11</td>\n",
       "      <td>Employed</td>\n",
       "      <td>M</td>\n",
       "      <td>...</td>\n",
       "      <td>2</td>\n",
       "      <td>Corporate Auto</td>\n",
       "      <td>Corporate L3</td>\n",
       "      <td>Offer2</td>\n",
       "      <td>Branch</td>\n",
       "      <td>484.013411</td>\n",
       "      <td>Four-Door Car</td>\n",
       "      <td>Medsize</td>\n",
       "      <td>A</td>\n",
       "      <td>1</td>\n",
       "    </tr>\n",
       "    <tr>\n",
       "      <th>4</th>\n",
       "      <td>4</td>\n",
       "      <td>QA50777</td>\n",
       "      <td>Oregon</td>\n",
       "      <td>9025.067525</td>\n",
       "      <td>No</td>\n",
       "      <td>Premium</td>\n",
       "      <td>Bachelor</td>\n",
       "      <td>2011-01-17</td>\n",
       "      <td>Medical Leave</td>\n",
       "      <td>F</td>\n",
       "      <td>...</td>\n",
       "      <td>7</td>\n",
       "      <td>Personal Auto</td>\n",
       "      <td>Personal L2</td>\n",
       "      <td>Offer1</td>\n",
       "      <td>Branch</td>\n",
       "      <td>707.925645</td>\n",
       "      <td>Four-Door Car</td>\n",
       "      <td>Medsize</td>\n",
       "      <td>A</td>\n",
       "      <td>1</td>\n",
       "    </tr>\n",
       "  </tbody>\n",
       "</table>\n",
       "<p>5 rows × 27 columns</p>\n",
       "</div>"
      ],
      "text/plain": [
       "   unnamed:_0 customer       state  customer_lifetime_value response  \\\n",
       "0           0  DK49336     Arizona              4809.216960       No   \n",
       "1           1  KX64629  California              2228.525238       No   \n",
       "2           2  LZ68649  Washington             14947.917300       No   \n",
       "3           3  XL78013      Oregon             22332.439460      Yes   \n",
       "4           4  QA50777      Oregon              9025.067525       No   \n",
       "\n",
       "   coverage education effective_to_date employmentstatus gender  ...  \\\n",
       "0     Basic   College        2011-02-18         Employed      M  ...   \n",
       "1     Basic   College        2011-01-18       Unemployed      F  ...   \n",
       "2     Basic  Bachelor        2011-02-10         Employed      M  ...   \n",
       "3  Extended   College        2011-01-11         Employed      M  ...   \n",
       "4   Premium  Bachelor        2011-01-17    Medical Leave      F  ...   \n",
       "\n",
       "   number_of_policies     policy_type        policy  renew_offer_type  \\\n",
       "0                   9  Corporate Auto  Corporate L3            Offer3   \n",
       "1                   1   Personal Auto   Personal L3            Offer4   \n",
       "2                   2   Personal Auto   Personal L3            Offer3   \n",
       "3                   2  Corporate Auto  Corporate L3            Offer2   \n",
       "4                   7   Personal Auto   Personal L2            Offer1   \n",
       "\n",
       "   sales_channel  total_claim_amount  vehicle_class  vehicle_size  \\\n",
       "0          Agent          292.800000  Four-Door Car       Medsize   \n",
       "1    Call Center          744.924331  Four-Door Car       Medsize   \n",
       "2    Call Center          480.000000            SUV       Medsize   \n",
       "3         Branch          484.013411  Four-Door Car       Medsize   \n",
       "4         Branch          707.925645  Four-Door Car       Medsize   \n",
       "\n",
       "  vehicle_type month  \n",
       "0            A     2  \n",
       "1            A     1  \n",
       "2            A     2  \n",
       "3            A     1  \n",
       "4            A     1  \n",
       "\n",
       "[5 rows x 27 columns]"
      ]
     },
     "execution_count": 323,
     "metadata": {},
     "output_type": "execute_result"
    }
   ],
   "source": [
    "df.head()"
   ]
  },
  {
   "cell_type": "code",
   "execution_count": 324,
   "id": "b2eae752",
   "metadata": {},
   "outputs": [],
   "source": [
    "# Isolate numerical variables \n",
    "\n",
    "numericals_df = df.select_dtypes(include=['number'])"
   ]
  },
  {
   "cell_type": "code",
   "execution_count": 325,
   "id": "4ef5a03a",
   "metadata": {},
   "outputs": [
    {
     "data": {
      "text/html": [
       "<div>\n",
       "<style scoped>\n",
       "    .dataframe tbody tr th:only-of-type {\n",
       "        vertical-align: middle;\n",
       "    }\n",
       "\n",
       "    .dataframe tbody tr th {\n",
       "        vertical-align: top;\n",
       "    }\n",
       "\n",
       "    .dataframe thead th {\n",
       "        text-align: right;\n",
       "    }\n",
       "</style>\n",
       "<table border=\"1\" class=\"dataframe\">\n",
       "  <thead>\n",
       "    <tr style=\"text-align: right;\">\n",
       "      <th></th>\n",
       "      <th>unnamed:_0</th>\n",
       "      <th>customer_lifetime_value</th>\n",
       "      <th>income</th>\n",
       "      <th>monthly_premium_auto</th>\n",
       "      <th>months_since_last_claim</th>\n",
       "      <th>months_since_policy_inception</th>\n",
       "      <th>number_of_open_complaints</th>\n",
       "      <th>number_of_policies</th>\n",
       "      <th>total_claim_amount</th>\n",
       "      <th>month</th>\n",
       "    </tr>\n",
       "  </thead>\n",
       "  <tbody>\n",
       "    <tr>\n",
       "      <th>0</th>\n",
       "      <td>0</td>\n",
       "      <td>4809.216960</td>\n",
       "      <td>48029</td>\n",
       "      <td>61</td>\n",
       "      <td>7.000000</td>\n",
       "      <td>52</td>\n",
       "      <td>0.000000</td>\n",
       "      <td>9</td>\n",
       "      <td>292.800000</td>\n",
       "      <td>2</td>\n",
       "    </tr>\n",
       "    <tr>\n",
       "      <th>1</th>\n",
       "      <td>1</td>\n",
       "      <td>2228.525238</td>\n",
       "      <td>0</td>\n",
       "      <td>64</td>\n",
       "      <td>3.000000</td>\n",
       "      <td>26</td>\n",
       "      <td>0.000000</td>\n",
       "      <td>1</td>\n",
       "      <td>744.924331</td>\n",
       "      <td>1</td>\n",
       "    </tr>\n",
       "    <tr>\n",
       "      <th>2</th>\n",
       "      <td>2</td>\n",
       "      <td>14947.917300</td>\n",
       "      <td>22139</td>\n",
       "      <td>100</td>\n",
       "      <td>34.000000</td>\n",
       "      <td>31</td>\n",
       "      <td>0.000000</td>\n",
       "      <td>2</td>\n",
       "      <td>480.000000</td>\n",
       "      <td>2</td>\n",
       "    </tr>\n",
       "    <tr>\n",
       "      <th>3</th>\n",
       "      <td>3</td>\n",
       "      <td>22332.439460</td>\n",
       "      <td>49078</td>\n",
       "      <td>97</td>\n",
       "      <td>10.000000</td>\n",
       "      <td>3</td>\n",
       "      <td>0.000000</td>\n",
       "      <td>2</td>\n",
       "      <td>484.013411</td>\n",
       "      <td>1</td>\n",
       "    </tr>\n",
       "    <tr>\n",
       "      <th>4</th>\n",
       "      <td>4</td>\n",
       "      <td>9025.067525</td>\n",
       "      <td>23675</td>\n",
       "      <td>117</td>\n",
       "      <td>15.149071</td>\n",
       "      <td>31</td>\n",
       "      <td>0.384256</td>\n",
       "      <td>7</td>\n",
       "      <td>707.925645</td>\n",
       "      <td>1</td>\n",
       "    </tr>\n",
       "  </tbody>\n",
       "</table>\n",
       "</div>"
      ],
      "text/plain": [
       "   unnamed:_0  customer_lifetime_value  income  monthly_premium_auto  \\\n",
       "0           0              4809.216960   48029                    61   \n",
       "1           1              2228.525238       0                    64   \n",
       "2           2             14947.917300   22139                   100   \n",
       "3           3             22332.439460   49078                    97   \n",
       "4           4              9025.067525   23675                   117   \n",
       "\n",
       "   months_since_last_claim  months_since_policy_inception  \\\n",
       "0                 7.000000                             52   \n",
       "1                 3.000000                             26   \n",
       "2                34.000000                             31   \n",
       "3                10.000000                              3   \n",
       "4                15.149071                             31   \n",
       "\n",
       "   number_of_open_complaints  number_of_policies  total_claim_amount  month  \n",
       "0                   0.000000                   9          292.800000      2  \n",
       "1                   0.000000                   1          744.924331      1  \n",
       "2                   0.000000                   2          480.000000      2  \n",
       "3                   0.000000                   2          484.013411      1  \n",
       "4                   0.384256                   7          707.925645      1  "
      ]
     },
     "execution_count": 325,
     "metadata": {},
     "output_type": "execute_result"
    }
   ],
   "source": [
    "numericals_df.head()"
   ]
  },
  {
   "cell_type": "code",
   "execution_count": 326,
   "id": "939b6885",
   "metadata": {},
   "outputs": [],
   "source": [
    "numericals_df = numericals_df.dropna()"
   ]
  },
  {
   "cell_type": "code",
   "execution_count": 327,
   "id": "4e36d100",
   "metadata": {},
   "outputs": [],
   "source": [
    "numericals_df = numericals_df.drop_duplicates()"
   ]
  },
  {
   "cell_type": "markdown",
   "id": "5e8faba6",
   "metadata": {},
   "source": [
    "## 1 X-y split (y is the target variable, in this case, \"total claim amount\")"
   ]
  },
  {
   "cell_type": "code",
   "execution_count": 328,
   "id": "446285df",
   "metadata": {},
   "outputs": [],
   "source": [
    "X = numericals_df.drop([\"total_claim_amount\"], axis=1) # taking income as independent variable\n",
    "y = numericals_df[[\"total_claim_amount\"]]"
   ]
  },
  {
   "cell_type": "markdown",
   "id": "ca837c2b",
   "metadata": {},
   "source": [
    "## 2 Train-test split"
   ]
  },
  {
   "cell_type": "code",
   "execution_count": 329,
   "id": "58c27f0c",
   "metadata": {},
   "outputs": [],
   "source": [
    "from sklearn.model_selection import train_test_split"
   ]
  },
  {
   "cell_type": "code",
   "execution_count": 330,
   "id": "e5a6d577",
   "metadata": {},
   "outputs": [],
   "source": [
    "X_train, X_test, y_train, y_test = train_test_split(X,y, random_state = 42)"
   ]
  },
  {
   "cell_type": "markdown",
   "id": "05dfc977",
   "metadata": {},
   "source": [
    "## 3 Standardize the data "
   ]
  },
  {
   "cell_type": "code",
   "execution_count": 389,
   "id": "4000d8c6",
   "metadata": {},
   "outputs": [],
   "source": [
    "from sklearn.preprocessing import MinMaxScaler, StandardScaler, PowerTransformer\n",
    "\n",
    "# Fit the PowerTransformer to your training data\n",
    "\n",
    "# Side note: How do we decide whether to use PowerTransformer vs MinMaxScaler vs StandardScaler? \n",
    "# Source Chat GPT (31.01.24) \n",
    "\n",
    "    # Decision Criteria:\n",
    "\n",
    "    # 1 Distribution of Data:\n",
    "\n",
    "# - If your data is normally distributed or can be transformed to be more Gaussian-like, consider PowerTransformer.\n",
    "# - If your data has varying ranges and you want a specific range, consider MinMaxScaler.\n",
    "# - If your data has different means and standard deviations, and you want to standardize, consider StandardScaler.\n",
    "\n",
    "    # 2 Handling Outliers:\n",
    "\n",
    "# - If your data contains outliers and you want a more robust scaler, PowerTransformer is generally less sensitive to outliers.\n",
    "# - StandardScaler is also less sensitive to outliers compared to MinMaxScaler.\n",
    "\n",
    "    # 3 Model Assumptions:\n",
    "\n",
    "# Consider the assumptions of the models you plan to use. Some models assume that features are normally distributed or have certain scaling characteristics.\n",
    "# Experimentation:\n",
    "\n",
    "    # 4 Experiment with different scalers and evaluate their impact on your specific machine learning model's performance."
   ]
  },
  {
   "cell_type": "code",
   "execution_count": 391,
   "id": "ed861b8e",
   "metadata": {},
   "outputs": [],
   "source": [
    "scaler = PowerTransformer() # Here I opted for PowerTransformer as many of the numerical variables have a skew\n",
    "\n",
    "pt = scaler # Abbreviated for ease of coding \n",
    "\n",
    "X_train_fit = pt.fit(X_train) \n",
    "\n",
    "# Transform the training data\n",
    "\n",
    "X_train_trans = pt.transform(X_train)\n",
    "\n",
    "# Transform X_test data \n",
    "\n",
    "X_test_trans = pt.transform(X_test)"
   ]
  },
  {
   "cell_type": "markdown",
   "id": "51092c06",
   "metadata": {},
   "source": [
    "## 4 Apply linear regression."
   ]
  },
  {
   "cell_type": "code",
   "execution_count": 390,
   "id": "4c866793",
   "metadata": {},
   "outputs": [],
   "source": [
    "from sklearn.linear_model import LinearRegression"
   ]
  },
  {
   "cell_type": "code",
   "execution_count": 367,
   "id": "15afcff1",
   "metadata": {},
   "outputs": [],
   "source": [
    "lm = LinearRegression()\n",
    "model = lm.fit(X_train_trans,y_train)"
   ]
  },
  {
   "cell_type": "code",
   "execution_count": 368,
   "id": "96f9c72a",
   "metadata": {},
   "outputs": [
    {
     "data": {
      "text/plain": [
       "array([[ 9.82399068e-02,  1.12738011e+01, -1.04032839e+02,\n",
       "         1.53052473e+02,  3.50539681e+00, -3.85903839e+00,\n",
       "        -1.41103257e+00, -7.66019405e+00, -2.09632903e-01]])"
      ]
     },
     "execution_count": 368,
     "metadata": {},
     "output_type": "execute_result"
    }
   ],
   "source": [
    "model.coef_"
   ]
  },
  {
   "cell_type": "code",
   "execution_count": 369,
   "id": "26a6ad28",
   "metadata": {},
   "outputs": [
    {
     "data": {
      "text/plain": [
       "array([434.60833836])"
      ]
     },
     "execution_count": 369,
     "metadata": {},
     "output_type": "execute_result"
    }
   ],
   "source": [
    "model.intercept_"
   ]
  },
  {
   "cell_type": "markdown",
   "id": "3ceac984",
   "metadata": {},
   "source": [
    "## 5 Model Interpretation."
   ]
  },
  {
   "cell_type": "code",
   "execution_count": 370,
   "id": "cf9f81ea",
   "metadata": {},
   "outputs": [],
   "source": [
    "# Predict total claim amount based on income "
   ]
  },
  {
   "cell_type": "code",
   "execution_count": 371,
   "id": "b03ef118",
   "metadata": {},
   "outputs": [],
   "source": [
    "random_customer = X_test.sample()"
   ]
  },
  {
   "cell_type": "code",
   "execution_count": 372,
   "id": "0545fe66",
   "metadata": {},
   "outputs": [
    {
     "data": {
      "text/html": [
       "<div>\n",
       "<style scoped>\n",
       "    .dataframe tbody tr th:only-of-type {\n",
       "        vertical-align: middle;\n",
       "    }\n",
       "\n",
       "    .dataframe tbody tr th {\n",
       "        vertical-align: top;\n",
       "    }\n",
       "\n",
       "    .dataframe thead th {\n",
       "        text-align: right;\n",
       "    }\n",
       "</style>\n",
       "<table border=\"1\" class=\"dataframe\">\n",
       "  <thead>\n",
       "    <tr style=\"text-align: right;\">\n",
       "      <th></th>\n",
       "      <th>unnamed:_0</th>\n",
       "      <th>customer_lifetime_value</th>\n",
       "      <th>income</th>\n",
       "      <th>monthly_premium_auto</th>\n",
       "      <th>months_since_last_claim</th>\n",
       "      <th>months_since_policy_inception</th>\n",
       "      <th>number_of_open_complaints</th>\n",
       "      <th>number_of_policies</th>\n",
       "      <th>month</th>\n",
       "    </tr>\n",
       "  </thead>\n",
       "  <tbody>\n",
       "    <tr>\n",
       "      <th>10441</th>\n",
       "      <td>10441</td>\n",
       "      <td>13438.04189</td>\n",
       "      <td>69693</td>\n",
       "      <td>112</td>\n",
       "      <td>34.0</td>\n",
       "      <td>62</td>\n",
       "      <td>1.0</td>\n",
       "      <td>2</td>\n",
       "      <td>1</td>\n",
       "    </tr>\n",
       "  </tbody>\n",
       "</table>\n",
       "</div>"
      ],
      "text/plain": [
       "       unnamed:_0  customer_lifetime_value  income  monthly_premium_auto  \\\n",
       "10441       10441              13438.04189   69693                   112   \n",
       "\n",
       "       months_since_last_claim  months_since_policy_inception  \\\n",
       "10441                     34.0                             62   \n",
       "\n",
       "       number_of_open_complaints  number_of_policies  month  \n",
       "10441                        1.0                   2      1  "
      ]
     },
     "execution_count": 372,
     "metadata": {},
     "output_type": "execute_result"
    }
   ],
   "source": [
    "random_customer"
   ]
  },
  {
   "cell_type": "code",
   "execution_count": 373,
   "id": "65f86f8b",
   "metadata": {},
   "outputs": [
    {
     "name": "stderr",
     "output_type": "stream",
     "text": [
      "/Users/matthewbatchelor/anaconda3/lib/python3.11/site-packages/sklearn/base.py:457: UserWarning: X has feature names, but LinearRegression was fitted without feature names\n",
      "  warnings.warn(\n"
     ]
    },
    {
     "data": {
      "text/plain": [
       "array([[-7080397.63401566]])"
      ]
     },
     "execution_count": 373,
     "metadata": {},
     "output_type": "execute_result"
    }
   ],
   "source": [
    "model.predict(random_customer)"
   ]
  },
  {
   "cell_type": "markdown",
   "id": "79c428e2",
   "metadata": {},
   "source": [
    "## Create predictions for test set"
   ]
  },
  {
   "cell_type": "code",
   "execution_count": 374,
   "id": "ace6ce31",
   "metadata": {},
   "outputs": [],
   "source": [
    "y_pred = model.predict(X_test_trans)"
   ]
  },
  {
   "cell_type": "code",
   "execution_count": 375,
   "id": "b58d5862",
   "metadata": {},
   "outputs": [],
   "source": [
    "y_pred = pd.DataFrame(y_pred)"
   ]
  },
  {
   "cell_type": "code",
   "execution_count": 376,
   "id": "7e33feec",
   "metadata": {},
   "outputs": [],
   "source": [
    "y_test = y_test.reset_index(drop=True)"
   ]
  },
  {
   "cell_type": "code",
   "execution_count": 377,
   "id": "84efa77b",
   "metadata": {},
   "outputs": [],
   "source": [
    "resiudals_df = pd.concat([y_test,y_pred],axis=1)"
   ]
  },
  {
   "cell_type": "code",
   "execution_count": 378,
   "id": "c7cdad14",
   "metadata": {},
   "outputs": [],
   "source": [
    "residuals_df = resiudals_df.rename(columns={\"total_claim_amount\":\"y_test\", 0:\"y_pred\"})"
   ]
  },
  {
   "cell_type": "code",
   "execution_count": 379,
   "id": "c99c516f",
   "metadata": {},
   "outputs": [],
   "source": [
    "residuals_df[\"residual\"] = residuals_df[\"y_test\"]-residuals_df[\"y_pred\"]"
   ]
  },
  {
   "cell_type": "code",
   "execution_count": 380,
   "id": "62eeae48",
   "metadata": {},
   "outputs": [
    {
     "data": {
      "text/html": [
       "<div>\n",
       "<style scoped>\n",
       "    .dataframe tbody tr th:only-of-type {\n",
       "        vertical-align: middle;\n",
       "    }\n",
       "\n",
       "    .dataframe tbody tr th {\n",
       "        vertical-align: top;\n",
       "    }\n",
       "\n",
       "    .dataframe thead th {\n",
       "        text-align: right;\n",
       "    }\n",
       "</style>\n",
       "<table border=\"1\" class=\"dataframe\">\n",
       "  <thead>\n",
       "    <tr style=\"text-align: right;\">\n",
       "      <th></th>\n",
       "      <th>y_test</th>\n",
       "      <th>y_pred</th>\n",
       "      <th>residual</th>\n",
       "    </tr>\n",
       "  </thead>\n",
       "  <tbody>\n",
       "    <tr>\n",
       "      <th>0</th>\n",
       "      <td>475.423848</td>\n",
       "      <td>219.404346</td>\n",
       "      <td>256.019502</td>\n",
       "    </tr>\n",
       "    <tr>\n",
       "      <th>1</th>\n",
       "      <td>350.400000</td>\n",
       "      <td>309.353785</td>\n",
       "      <td>41.046215</td>\n",
       "    </tr>\n",
       "    <tr>\n",
       "      <th>2</th>\n",
       "      <td>482.400000</td>\n",
       "      <td>438.168865</td>\n",
       "      <td>44.231135</td>\n",
       "    </tr>\n",
       "    <tr>\n",
       "      <th>3</th>\n",
       "      <td>673.342650</td>\n",
       "      <td>497.926000</td>\n",
       "      <td>175.416650</td>\n",
       "    </tr>\n",
       "    <tr>\n",
       "      <th>4</th>\n",
       "      <td>302.400000</td>\n",
       "      <td>163.531290</td>\n",
       "      <td>138.868710</td>\n",
       "    </tr>\n",
       "  </tbody>\n",
       "</table>\n",
       "</div>"
      ],
      "text/plain": [
       "       y_test      y_pred    residual\n",
       "0  475.423848  219.404346  256.019502\n",
       "1  350.400000  309.353785   41.046215\n",
       "2  482.400000  438.168865   44.231135\n",
       "3  673.342650  497.926000  175.416650\n",
       "4  302.400000  163.531290  138.868710"
      ]
     },
     "execution_count": 380,
     "metadata": {},
     "output_type": "execute_result"
    }
   ],
   "source": [
    "residuals_df.head()"
   ]
  },
  {
   "cell_type": "markdown",
   "id": "c84f4bac",
   "metadata": {},
   "source": [
    "## Model interpretation "
   ]
  },
  {
   "cell_type": "code",
   "execution_count": 381,
   "id": "c8005f79",
   "metadata": {},
   "outputs": [],
   "source": [
    "mean_error = residuals_df[\"residual\"].mean()"
   ]
  },
  {
   "cell_type": "code",
   "execution_count": 382,
   "id": "dfe542c3",
   "metadata": {},
   "outputs": [
    {
     "data": {
      "text/plain": [
       "0.8230562109049625"
      ]
     },
     "execution_count": 382,
     "metadata": {},
     "output_type": "execute_result"
    }
   ],
   "source": [
    "mean_error"
   ]
  },
  {
   "cell_type": "code",
   "execution_count": 383,
   "id": "4fcbe76a",
   "metadata": {},
   "outputs": [],
   "source": [
    "from sklearn.metrics import mean_squared_error as mse , mean_absolute_error as mae"
   ]
  },
  {
   "cell_type": "code",
   "execution_count": 384,
   "id": "f20346a7",
   "metadata": {},
   "outputs": [
    {
     "data": {
      "text/plain": [
       "45743.03824143722"
      ]
     },
     "execution_count": 384,
     "metadata": {},
     "output_type": "execute_result"
    }
   ],
   "source": [
    "mse(y_test,y_pred)"
   ]
  },
  {
   "cell_type": "code",
   "execution_count": 385,
   "id": "17cd76a6",
   "metadata": {},
   "outputs": [
    {
     "data": {
      "text/plain": [
       "152.92551635883393"
      ]
     },
     "execution_count": 385,
     "metadata": {},
     "output_type": "execute_result"
    }
   ],
   "source": [
    "mae(y_test,y_pred)"
   ]
  },
  {
   "cell_type": "code",
   "execution_count": 386,
   "id": "1178145d",
   "metadata": {},
   "outputs": [],
   "source": [
    "rmse = mse(y_test,y_pred, squared = False)"
   ]
  },
  {
   "cell_type": "code",
   "execution_count": 387,
   "id": "58f9b3d3",
   "metadata": {},
   "outputs": [
    {
     "data": {
      "text/plain": [
       "213.87622177660896"
      ]
     },
     "execution_count": 387,
     "metadata": {},
     "output_type": "execute_result"
    }
   ],
   "source": [
    "rmse"
   ]
  }
 ],
 "metadata": {
  "kernelspec": {
   "display_name": "Python 3 (ipykernel)",
   "language": "python",
   "name": "python3"
  },
  "language_info": {
   "codemirror_mode": {
    "name": "ipython",
    "version": 3
   },
   "file_extension": ".py",
   "mimetype": "text/x-python",
   "name": "python",
   "nbconvert_exporter": "python",
   "pygments_lexer": "ipython3",
   "version": "3.11.5"
  }
 },
 "nbformat": 4,
 "nbformat_minor": 5
}
