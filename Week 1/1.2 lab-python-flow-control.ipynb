{
 "cells": [
  {
   "cell_type": "markdown",
   "id": "d3bfc191-8885-42ee-b0a0-bbab867c6f9f",
   "metadata": {
    "tags": []
   },
   "source": [
    "# Lab | Flow Control"
   ]
  },
  {
   "cell_type": "markdown",
   "id": "3851fcd1-cf98-4653-9c89-e003b7ec9400",
   "metadata": {},
   "source": [
    "## Exercise: Managing Customer Orders Optimized\n",
    "\n",
    "In the last lab, you were starting an online store that sells various products. To ensure smooth operations, you developed a program that manages customer orders and inventory.\n",
    "\n",
    "You did so without using flow control. Let's go a step further and improve this code.\n",
    "\n",
    "Follow the steps below to complete the exercise:\n",
    "\n",
    "1. Look at your code from the lab data structures, and improve repeated code with loops.\n",
    "\n",
    "2. Instead of asking the user to input the name of three products that a customer wants to order, do the following:\n",
    "    \n",
    "    a. Prompt the user to enter the name of a product that a customer wants to order.\n",
    "    \n",
    "    b. Add the product name to the \"customer_orders\" set.\n",
    "    \n",
    "    c. Ask the user if they want to add another product (yes/no).\n",
    "    \n",
    "    d. Continue the loop until the user does not want to add another product.\n",
    "\n",
    "3. Instead of updating the inventory by subtracting 1 from the quantity of each product, only do it for  the products that were ordered (those in \"customer_orders\")."
   ]
  },
  {
   "cell_type": "code",
   "execution_count": 16,
   "id": "a357b59b",
   "metadata": {},
   "outputs": [
    {
     "name": "stdout",
     "output_type": "stream",
     "text": [
      "['t-shirt', 'mug', 'hat', 'book', 'keychain']\n"
     ]
    }
   ],
   "source": [
    "products = [\"t-shirt\", \"mug\", \"hat\", \"book\", \"keychain\"]\n",
    "print (products)"
   ]
  },
  {
   "cell_type": "code",
   "execution_count": 17,
   "id": "3abacd4c",
   "metadata": {},
   "outputs": [
    {
     "name": "stdout",
     "output_type": "stream",
     "text": [
      "{}\n"
     ]
    }
   ],
   "source": [
    "inventory = {}\n",
    "print (inventory)"
   ]
  },
  {
   "cell_type": "code",
   "execution_count": 18,
   "id": "4abbe45f",
   "metadata": {},
   "outputs": [
    {
     "name": "stdout",
     "output_type": "stream",
     "text": [
      "Enter the quantity of t-shirts available: 5\n",
      "Enter the quantity of mugs available: 5\n",
      "Enter the quantity of hats available: 5\n",
      "Enter the quantity of books available: 5\n",
      "Enter the quantity of keychains available: 5\n"
     ]
    }
   ],
   "source": [
    "#My code contained errors so pasting correct version shared by IronHack. Everything that follows is the solution proposed by IronHack.\n",
    "\n",
    "#Step 1: Improve repeated code with loops (this is done throughout the whole solution)\n",
    "\n",
    "for product in products:\n",
    "    quantity = int(input(f\"Enter the quantity of {product}s available: \"))\n",
    "    inventory[product] = quantity"
   ]
  },
  {
   "cell_type": "code",
   "execution_count": 19,
   "id": "79663992",
   "metadata": {},
   "outputs": [],
   "source": [
    "#Initialize an empty set to store customer orders \n",
    "\n",
    "customer_orders = set()"
   ]
  },
  {
   "cell_type": "code",
   "execution_count": 20,
   "id": "6a62a1d6",
   "metadata": {},
   "outputs": [],
   "source": [
    "# Initialize a variable for user input\n",
    "\n",
    "add_another = 'yes'"
   ]
  },
  {
   "cell_type": "code",
   "execution_count": 24,
   "id": "2fff50fb",
   "metadata": {},
   "outputs": [],
   "source": [
    "# Step 2: Use a while loop to prompt the user for product names and add them to customer_orders\n",
    "\n",
    "while add_another.lower() == 'yes':\n",
    "    # Prompt the user to enter the name of a product\n",
    "    product_name = input(\"Enter the name of a product that a customer wants to order: \")\n",
    "    # Add the product name to the customer_orders set\n",
    "    customer_orders.add(product_name)\n",
    "    add_another = input(\"Do you want to add another product? (yes/no): \")    "
   ]
  },
  {
   "cell_type": "code",
   "execution_count": 25,
   "id": "16389711",
   "metadata": {},
   "outputs": [],
   "source": [
    "# Step 3: Update the inventory for the products that were ordered\n",
    "\n",
    "for product in customer_orders:\n",
    "    if product in inventory:\n",
    "        inventory[product] -= 1"
   ]
  },
  {
   "cell_type": "code",
   "execution_count": 26,
   "id": "68b67217",
   "metadata": {},
   "outputs": [
    {
     "name": "stdout",
     "output_type": "stream",
     "text": [
      "Products in customer orders: {'hat'}\n"
     ]
    }
   ],
   "source": [
    "# Print the products in customer orders\n",
    "\n",
    "print(\"Products in customer orders:\", customer_orders)"
   ]
  },
  {
   "cell_type": "code",
   "execution_count": 27,
   "id": "e88a15fe",
   "metadata": {},
   "outputs": [
    {
     "name": "stdout",
     "output_type": "stream",
     "text": [
      "Updated Inventory:\n",
      "t-shirt: 5\n",
      "mug: 5\n",
      "hat: 4\n",
      "book: 5\n",
      "keychain: 5\n"
     ]
    }
   ],
   "source": [
    "# Print the updated inventory\n",
    "\n",
    "print(\"Updated Inventory:\")\n",
    "for product, quantity in inventory.items():\n",
    "    print(f\"{product}: {quantity}\")"
   ]
  },
  {
   "cell_type": "code",
   "execution_count": null,
   "id": "80404665",
   "metadata": {},
   "outputs": [],
   "source": []
  }
 ],
 "metadata": {
  "kernelspec": {
   "display_name": "Python 3 (ipykernel)",
   "language": "python",
   "name": "python3"
  },
  "language_info": {
   "codemirror_mode": {
    "name": "ipython",
    "version": 3
   },
   "file_extension": ".py",
   "mimetype": "text/x-python",
   "name": "python",
   "nbconvert_exporter": "python",
   "pygments_lexer": "ipython3",
   "version": "3.11.5"
  }
 },
 "nbformat": 4,
 "nbformat_minor": 5
}
