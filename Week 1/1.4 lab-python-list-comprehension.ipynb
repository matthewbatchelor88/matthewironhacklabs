{
 "cells": [
  {
   "cell_type": "markdown",
   "id": "25d7736c-ba17-4aff-b6bb-66eba20fbf4e",
   "metadata": {},
   "source": [
    "# Lab | List, Dict and Set Comprehension"
   ]
  },
  {
   "cell_type": "markdown",
   "id": "7dd3cbde-675a-4b81-92c3-f728846dbe06",
   "metadata": {},
   "source": [
    "## Exercise: Managing Customer Orders Optimized with Comprehension"
   ]
  },
  {
   "cell_type": "markdown",
   "id": "5d500160-2fb7-4777-b5e4-09d45ebaf328",
   "metadata": {},
   "source": [
    "In the previous exercise, you developed a program to manage customer orders and inventory. Now, let's take it a step further and incorporate comprehension into your code.\n",
    "\n",
    "Follow the steps below to complete the exercise:\n",
    "\n",
    "1. Review your code from the previous exercise and identify areas where you can apply comprehension to simplify and streamline your code. \n",
    "\n",
    "    - *Hint: Apply it to initialize inventory, updating the inventory and printing the updated inventory.*\n",
    "    \n",
    "    - For example, in initializing the inventory, we could have:\n",
    "    \n",
    "        ```python\n",
    "        def initialize_inventory(products):\n",
    "            inventory = {product: int(input(f\"Enter the quantity of {product}s available: \")) for product in products}\n",
    "            return inventory\n",
    "\n",
    "        ```\n",
    "<br>\n",
    "    \n",
    "    \n",
    "2. Modify the function get_customer_orders so it prompts the user to enter the number of customer orders and gathers the product names using a loop and user input. Use comprehension.\n",
    "\n",
    "3. Add a new function to calculate the total price of the customer order. For each product in customer_orders, prompt the user to enter the price of that product. Use comprehension to calculate the total price. Note: assume that the user can only have 1 unit of each product.\n",
    "\n",
    "4. Modify the update_inventory function to remove the product from the inventory if its quantity becomes zero after fulfilling the customer orders. Use comprehension to filter out the products with a quantity of zero from the inventory.\n",
    "\n",
    "5. Print the total price of the customer order.\n",
    "\n",
    "Your code should produce output similar to the following:\n",
    "\n",
    "```python\n",
    "Enter the quantity of t-shirts available:  5\n",
    "Enter the quantity of mugs available:  4\n",
    "Enter the quantity of hats available:  3\n",
    "Enter the quantity of books available:  2\n",
    "Enter the quantity of keychains available:  1\n",
    "Enter the number of customer orders:  2\n",
    "Enter the name of a product that a customer wants to order:  hat\n",
    "Enter the name of a product that a customer wants to order:  keychain\n",
    "\n",
    "Order Statistics:\n",
    "Total Products Ordered: 2\n",
    "Percentage of Unique Products Ordered: 40.0\n",
    "\n",
    "Updated Inventory:\n",
    "t-shirt: 5\n",
    "mug: 4\n",
    "hat: 2\n",
    "book: 2\n",
    "Enter the price of keychain:  5\n",
    "Enter the price of hat:  10\n",
    "Total Price: 15.0\n",
    "\n",
    "```\n"
   ]
  },
  {
   "cell_type": "code",
   "execution_count": 4,
   "id": "7fae6858",
   "metadata": {},
   "outputs": [],
   "source": [
    "products = [\"t-shirt\", \"mug\", \"hat\", \"book\", \"keychain\"]"
   ]
  },
  {
   "cell_type": "code",
   "execution_count": 5,
   "id": "e7e72857",
   "metadata": {},
   "outputs": [],
   "source": [
    "#Modify the function get_customer_orders so it prompts the user to enter the number of customer orders and gathers the product names using a loop and user input. Use comprehension.\n",
    "\n",
    "#Non-comp for reference\n",
    "\n",
    "def get_customer_orders(products):\n",
    "    customer_orders = set()  \n",
    "    for product in products: \n",
    "        user_selection_quantity = int(input(f\"Enter desired quantity of {product}: \"))\n",
    "        customer_orders.add((product, user_selection_quantity))\n",
    "    return customer_orders"
   ]
  },
  {
   "cell_type": "code",
   "execution_count": 21,
   "id": "47b5f864",
   "metadata": {},
   "outputs": [],
   "source": [
    "#Comp \n",
    "\n",
    "def get_customer_orders(products):\n",
    "    \n",
    "    customer_orders = {(product, int(input(f\"Enter desired quantity of {product}: \"))) for product in products}\n",
    "    \n",
    "    #Note to self: following some trial and error, if I remove the first 'product' in line above, this means that I just return integers for quantity of products. \n",
    "    \n",
    "    return customer_orders"
   ]
  },
  {
   "cell_type": "code",
   "execution_count": 22,
   "id": "d00f47c9",
   "metadata": {},
   "outputs": [
    {
     "name": "stdout",
     "output_type": "stream",
     "text": [
      "Enter desired quantity of t-shirt: 1\n",
      "Enter desired quantity of mug: 1\n",
      "Enter desired quantity of hat: 1\n",
      "Enter desired quantity of book: 1\n",
      "Enter desired quantity of keychain: 1\n"
     ]
    },
    {
     "data": {
      "text/plain": [
       "{('book', 1), ('hat', 1), ('keychain', 1), ('mug', 1), ('t-shirt', 1)}"
      ]
     },
     "execution_count": 22,
     "metadata": {},
     "output_type": "execute_result"
    }
   ],
   "source": [
    "get_customer_orders(products)"
   ]
  },
  {
   "cell_type": "code",
   "execution_count": 27,
   "id": "2ea45ea6",
   "metadata": {},
   "outputs": [
    {
     "name": "stdout",
     "output_type": "stream",
     "text": [
      "Enter desired quantity of t-shirt: 1\n",
      "Enter desired quantity of mug: 1\n",
      "Enter desired quantity of hat: 1\n",
      "Enter desired quantity of book: 1\n",
      "Enter desired quantity of keychain: 1\n"
     ]
    }
   ],
   "source": [
    "# Add a new function to calculate the total price of the customer order. For each product in customer_orders, prompt the user to enter the price of that product. Use comprehension to calculate the total price. Note: assume that the user can only have 1 unit of each product.\n",
    "\n",
    "customer_orders = {(product, int(input(f\"Enter desired quantity of {product}: \"))) for product in products}\n",
    "\n",
    "def calculate_total_price(customer_orders):\n",
    "    total_price = sum(int(input(f\"Enter the price for {product}: \")) for product, quantity in customer_orders)\n",
    "    return total_price\n",
    "\n",
    "#Note to self, if you fail to include int before input, you return error as price input needs to be an integer or float"
   ]
  },
  {
   "cell_type": "code",
   "execution_count": 28,
   "id": "8e4ead6e",
   "metadata": {},
   "outputs": [
    {
     "name": "stdout",
     "output_type": "stream",
     "text": [
      "Enter the price for keychain: 15\n",
      "Enter the price for book: 20\n",
      "Enter the price for hat: 25\n",
      "Enter the price for mug: 450\n",
      "Enter the price for t-shirt: 5\n"
     ]
    },
    {
     "data": {
      "text/plain": [
       "515"
      ]
     },
     "execution_count": 28,
     "metadata": {},
     "output_type": "execute_result"
    }
   ],
   "source": [
    "calculate_total_price(customer_orders)"
   ]
  },
  {
   "cell_type": "code",
   "execution_count": null,
   "id": "657c5613",
   "metadata": {},
   "outputs": [],
   "source": []
  }
 ],
 "metadata": {
  "kernelspec": {
   "display_name": "Python 3 (ipykernel)",
   "language": "python",
   "name": "python3"
  },
  "language_info": {
   "codemirror_mode": {
    "name": "ipython",
    "version": 3
   },
   "file_extension": ".py",
   "mimetype": "text/x-python",
   "name": "python",
   "nbconvert_exporter": "python",
   "pygments_lexer": "ipython3",
   "version": "3.11.5"
  }
 },
 "nbformat": 4,
 "nbformat_minor": 5
}
