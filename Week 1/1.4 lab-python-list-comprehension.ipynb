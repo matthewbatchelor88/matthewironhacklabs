{
 "cells": [
  {
   "cell_type": "markdown",
   "id": "25d7736c-ba17-4aff-b6bb-66eba20fbf4e",
   "metadata": {},
   "source": [
    "# Lab | List, Dict and Set Comprehension"
   ]
  },
  {
   "cell_type": "markdown",
   "id": "7dd3cbde-675a-4b81-92c3-f728846dbe06",
   "metadata": {},
   "source": [
    "## Exercise: Managing Customer Orders Optimized with Comprehension"
   ]
  },
  {
   "cell_type": "markdown",
   "id": "5d500160-2fb7-4777-b5e4-09d45ebaf328",
   "metadata": {},
   "source": [
    "In the previous exercise, you developed a program to manage customer orders and inventory. Now, let's take it a step further and incorporate comprehension into your code.\n",
    "\n",
    "Follow the steps below to complete the exercise:\n",
    "\n",
    "1. Review your code from the previous exercise and identify areas where you can apply comprehension to simplify and streamline your code. \n",
    "\n",
    "    - *Hint: Apply it to initialize inventory, updating the inventory and printing the updated inventory.*\n",
    "    \n",
    "    - For example, in initializing the inventory, we could have:\n",
    "    \n",
    "        ```python\n",
    "        def initialize_inventory(products):\n",
    "            inventory = {product: int(input(f\"Enter the quantity of {product}s available: \")) for product in products}\n",
    "            return inventory\n",
    "\n",
    "        ```\n",
    "<br>\n",
    "    \n",
    "    \n",
    "2. Modify the function get_customer_orders so it prompts the user to enter the number of customer orders and gathers the product names using a loop and user input. Use comprehension.\n",
    "\n",
    "3. Add a new function to calculate the total price of the customer order. For each product in customer_orders, prompt the user to enter the price of that product. Use comprehension to calculate the total price. Note: assume that the user can only have 1 unit of each product.\n",
    "\n",
    "4. Modify the update_inventory function to remove the product from the inventory if its quantity becomes zero after fulfilling the customer orders. Use comprehension to filter out the products with a quantity of zero from the inventory.\n",
    "\n",
    "5. Print the total price of the customer order.\n",
    "\n",
    "Your code should produce output similar to the following:\n",
    "\n",
    "```python\n",
    "Enter the quantity of t-shirts available:  5\n",
    "Enter the quantity of mugs available:  4\n",
    "Enter the quantity of hats available:  3\n",
    "Enter the quantity of books available:  2\n",
    "Enter the quantity of keychains available:  1\n",
    "Enter the number of customer orders:  2\n",
    "Enter the name of a product that a customer wants to order:  hat\n",
    "Enter the name of a product that a customer wants to order:  keychain\n",
    "\n",
    "Order Statistics:\n",
    "Total Products Ordered: 2\n",
    "Percentage of Unique Products Ordered: 40.0\n",
    "\n",
    "Updated Inventory:\n",
    "t-shirt: 5\n",
    "mug: 4\n",
    "hat: 2\n",
    "book: 2\n",
    "Enter the price of keychain:  5\n",
    "Enter the price of hat:  10\n",
    "Total Price: 15.0\n",
    "\n",
    "```\n"
   ]
  },
  {
   "cell_type": "code",
   "execution_count": 4,
   "id": "ceb1d245",
   "metadata": {},
   "outputs": [],
   "source": [
    "products = [\"t-shirt\", \"mug\", \"hat\", \"book\", \"keychain\"]"
   ]
  },
  {
   "cell_type": "code",
   "execution_count": 5,
   "id": "94945eab",
   "metadata": {},
   "outputs": [],
   "source": [
    "#Modify the function get_customer_orders so it prompts the user to enter the number of customer orders and gathers the product names using a loop and user input. Use comprehension.\n",
    "\n",
    "#Non-comp for reference\n",
    "\n",
    "def get_customer_orders(products):\n",
    "    customer_orders = set()  \n",
    "    for product in products: \n",
    "        user_selection_quantity = int(input(f\"Enter desired quantity of {product}: \"))\n",
    "        customer_orders.add((product, user_selection_quantity))\n",
    "    return customer_orders"
   ]
  },
  {
   "cell_type": "code",
   "execution_count": 6,
   "id": "8bfb79d6",
   "metadata": {},
   "outputs": [],
   "source": [
    "#Comp \n",
    "\n",
    "def get_customer_orders(products):\n",
    "    \n",
    "    customer_orders = {(product, int(input(f\"Enter desired quantity of {product}: \"))) for product in products}\n",
    "    \n",
    "    #Note to self: following some trial and error, if I remove the first 'product' in line above, this means that I just return integers for quantity of products. \n",
    "    \n",
    "    return customer_orders"
   ]
  },
  {
   "cell_type": "code",
   "execution_count": 7,
   "id": "eacfcb11",
   "metadata": {},
   "outputs": [
    {
     "name": "stdout",
     "output_type": "stream",
     "text": [
      "Enter desired quantity of t-shirt: 5\n",
      "Enter desired quantity of mug: 5\n",
      "Enter desired quantity of hat: 5\n",
      "Enter desired quantity of book: 5\n",
      "Enter desired quantity of keychain: 5\n"
     ]
    },
    {
     "data": {
      "text/plain": [
       "{('book', 5), ('hat', 5), ('keychain', 5), ('mug', 5), ('t-shirt', 5)}"
      ]
     },
     "execution_count": 7,
     "metadata": {},
     "output_type": "execute_result"
    }
   ],
   "source": [
    "get_customer_orders(products)"
   ]
  },
  {
   "cell_type": "code",
   "execution_count": 8,
   "id": "0ae28cdc",
   "metadata": {},
   "outputs": [
    {
     "name": "stdout",
     "output_type": "stream",
     "text": [
      "Enter desired quantity of t-shirt: 5\n",
      "Enter desired quantity of mug: 5\n",
      "Enter desired quantity of hat: 5\n",
      "Enter desired quantity of book: 5\n",
      "Enter desired quantity of keychain: 5\n"
     ]
    }
   ],
   "source": [
    "# Add a new function to calculate the total price of the customer order. For each product in customer_orders, prompt the user to enter the price of that product. Use comprehension to calculate the total price. Note: assume that the user can only have 1 unit of each product.\n",
    "\n",
    "customer_orders = {(product, int(input(f\"Enter desired quantity of {product}: \"))) for product in products}\n",
    "\n",
    "def calculate_total_price(customer_orders):\n",
    "    total_price = sum(int(input(f\"Enter the price for {product}: \")) for product, quantity in customer_orders)\n",
    "    return total_price\n",
    "\n",
    "#Note to self, if you fail to include int before input, you return error as price input needs to be an integer or float"
   ]
  },
  {
   "cell_type": "code",
   "execution_count": 9,
   "id": "74d6fab0",
   "metadata": {},
   "outputs": [
    {
     "name": "stdout",
     "output_type": "stream",
     "text": [
      "Enter the price for hat: 5\n",
      "Enter the price for mug: 5\n",
      "Enter the price for keychain: 5\n",
      "Enter the price for book: 5\n",
      "Enter the price for t-shirt: 5\n"
     ]
    },
    {
     "data": {
      "text/plain": [
       "25"
      ]
     },
     "execution_count": 9,
     "metadata": {},
     "output_type": "execute_result"
    }
   ],
   "source": [
    "calculate_total_price(customer_orders)"
   ]
  },
  {
   "cell_type": "code",
   "execution_count": 10,
   "id": "10c41053",
   "metadata": {},
   "outputs": [],
   "source": [
    "#Modify the update_inventory function to remove the product from the inventory if its quantity becomes zero after fulfilling the customer orders. Use comprehension to filter out the products with a quantity of zero from the inventory.\n",
    "\n",
    "def update_inventory (customer_orders, products):\n",
    "    updated_inventory = {product: products[product] - 1 for product in products if product in customer_orders}\n",
    "    \n",
    "    updated_inventory = {product: quantity for product, quantity in updated_inventory.items() if quantity > 0}\n"
   ]
  },
  {
   "cell_type": "code",
   "execution_count": 11,
   "id": "051f8c81",
   "metadata": {},
   "outputs": [
    {
     "name": "stdout",
     "output_type": "stream",
     "text": [
      "None\n"
     ]
    }
   ],
   "source": [
    "update_inventory(customer_orders, products)\n",
    "print (update_inventory(customer_orders, products))\n",
    "\n",
    "#Not yet returning desired response "
   ]
  },
  {
   "cell_type": "code",
   "execution_count": 14,
   "id": "ff88dc0d",
   "metadata": {},
   "outputs": [],
   "source": [
    "# IronHack solution below \n",
    "\n",
    "# Step 1: Define the function for initializing the inventory\n",
    "def initialize_inventory(products):\n",
    "    inventory = {product: int(input(f\"Enter the quantity of {product}s available: \")) for product in products}\n",
    "    return inventory"
   ]
  },
  {
   "cell_type": "code",
   "execution_count": 15,
   "id": "f28b6a5a",
   "metadata": {},
   "outputs": [],
   "source": [
    "# Step 2: Define the function for getting customer orders\n",
    "def get_customer_orders():\n",
    "    num_orders = int(input(\"Enter the number of customer orders: \"))\n",
    "    return {input(\"Enter the name of a product that a customer wants to order: \") for _ in range(num_orders)}"
   ]
  },
  {
   "cell_type": "code",
   "execution_count": 16,
   "id": "7eaea9fa",
   "metadata": {},
   "outputs": [],
   "source": [
    "# Step 3: Define the function for updating the inventory\n",
    "def update_inventory(customer_orders, inventory):\n",
    "    inventory = {product: inventory[product] - 1 if product in customer_orders else inventory[product] for product in inventory}\n",
    "    inventory = {product: quantity for product, quantity in inventory.items() if quantity > 0}\n",
    "    return inventory"
   ]
  },
  {
   "cell_type": "code",
   "execution_count": 17,
   "id": "b9f2d359",
   "metadata": {},
   "outputs": [],
   "source": [
    "# Step 4: Define the function for calculating order statistics\n",
    "def calculate_order_statistics(customer_orders, products):\n",
    "    total_products_ordered = len(customer_orders)\n",
    "    percentage_ordered = (total_products_ordered / len(products)) * 100\n",
    "    return total_products_ordered, percentage_ordered"
   ]
  },
  {
   "cell_type": "code",
   "execution_count": 18,
   "id": "99e34d99",
   "metadata": {},
   "outputs": [],
   "source": [
    "# Step 5: Define the function for printing order statistics\n",
    "def print_order_statistics(order_statistics):\n",
    "    print(\"\\nOrder Statistics:\")\n",
    "    print(\"Total Products Ordered:\", order_statistics[0])\n",
    "    print(\"Percentage of Unique Products Ordered:\", order_statistics[1])"
   ]
  },
  {
   "cell_type": "code",
   "execution_count": 19,
   "id": "ee005eca",
   "metadata": {},
   "outputs": [],
   "source": [
    "# Step 6: Define the function for printing the updated inventory\n",
    "def print_updated_inventory(inventory):\n",
    "    print(\"\\nUpdated Inventory:\")\n",
    "    [print(f\"{product}: {quantity}\") for product, quantity in inventory.items()]"
   ]
  },
  {
   "cell_type": "code",
   "execution_count": 20,
   "id": "30219508",
   "metadata": {},
   "outputs": [],
   "source": [
    "# Step 7: Define the function for calculating the total price of the customer order\n",
    "def calculate_total_price(customer_orders):\n",
    "    total_price = sum(float(input(f\"Enter the price of {product}: \")) for product in customer_orders)\n",
    "    return total_price"
   ]
  }
 ],
 "metadata": {
  "kernelspec": {
   "display_name": "Python 3 (ipykernel)",
   "language": "python",
   "name": "python3"
  },
  "language_info": {
   "codemirror_mode": {
    "name": "ipython",
    "version": 3
   },
   "file_extension": ".py",
   "mimetype": "text/x-python",
   "name": "python",
   "nbconvert_exporter": "python",
   "pygments_lexer": "ipython3",
   "version": "3.11.5"
  }
 },
 "nbformat": 4,
 "nbformat_minor": 5
}
