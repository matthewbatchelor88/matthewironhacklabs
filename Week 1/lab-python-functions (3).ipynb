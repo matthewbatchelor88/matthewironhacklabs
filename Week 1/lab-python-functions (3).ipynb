{
 "cells": [
  {
   "cell_type": "markdown",
   "id": "25d7736c-ba17-4aff-b6bb-66eba20fbf4e",
   "metadata": {},
   "source": [
    "# Lab | Functions"
   ]
  },
  {
   "cell_type": "markdown",
   "id": "0c581062-8967-4d93-b06e-62833222f930",
   "metadata": {
    "tags": []
   },
   "source": [
    "## Exercise: Managing Customer Orders with Functions\n",
    "\n",
    "In the previous exercise, you improved the code for managing customer orders by using loops and flow control. Now, let's take it a step further and refactor the code by introducing functions.\n",
    "\n",
    "Follow the steps below to complete the exercise:\n",
    "\n",
    "1. Define a function named `initialize_inventory` that takes `products` as a parameter. Inside the function, implement the code for initializing the inventory dictionary using a loop and user input.\n",
    "\n",
    "2. Define a function named `get_customer_orders` that takes no parameters. Inside the function, implement the code for prompting the user to enter the product names using a loop. The function should return the `customer_orders` set.\n",
    "\n",
    "3. Define a function named `update_inventory` that takes `customer_orders` and `inventory` as parameters. Inside the function, implement the code for updating the inventory dictionary based on the customer orders.\n",
    "\n",
    "4. Define a function named `calculate_order_statistics` that takes `customer_orders` and `products` as parameters. Inside the function, implement the code for calculating the order statistics (total products ordered, and percentage of unique products ordered). The function should return these values.\n",
    "\n",
    "5. Define a function named `print_order_statistics` that takes `order_statistics` as a parameter. Inside the function, implement the code for printing the order statistics.\n",
    "\n",
    "6. Define a function named `print_updated_inventory` that takes `inventory` as a parameter. Inside the function, implement the code for printing the updated inventory.\n",
    "\n",
    "7. Call the functions in the appropriate sequence to execute the program and manage customer orders.\n",
    "\n",
    "Hints for functions:\n",
    "\n",
    "- Consider the input parameters required for each function and their return values.\n",
    "- Utilize function parameters and return values to transfer data between functions.\n",
    "- Test your functions individually to ensure they work correctly.\n",
    "\n",
    "\n"
   ]
  },
  {
   "cell_type": "code",
   "execution_count": 24,
   "id": "8c431d91",
   "metadata": {},
   "outputs": [
    {
     "name": "stdout",
     "output_type": "stream",
     "text": [
      "['t-shirt', 'mug', 'hat', 'book', 'keychain']\n"
     ]
    }
   ],
   "source": [
    "products = [\"t-shirt\", \"mug\", \"hat\", \"book\", \"keychain\"]\n",
    "print (products)"
   ]
  },
  {
   "cell_type": "code",
   "execution_count": 27,
   "id": "257e95c0",
   "metadata": {},
   "outputs": [],
   "source": [
    "# Define a function named initialize_inventory that takes products as a parameter. Inside the function, implement the code for initializing the inventory dictionary using a loop and user input. \n",
    "\n",
    "def initialize_inventory(products):\n",
    "    inventory = {}\n",
    "    for product in products:\n",
    "        quantity = int(input(f\"Enter initial quantity for {product}: \"))\n",
    "        inventory[product] = quantity\n",
    "    return inventory"
   ]
  },
  {
   "cell_type": "code",
   "execution_count": 28,
   "id": "c0f2ebe6",
   "metadata": {},
   "outputs": [
    {
     "name": "stdout",
     "output_type": "stream",
     "text": [
      "Enter initial quantity for t-shirt: 40\n",
      "Enter initial quantity for mug: 6\n",
      "Enter initial quantity for hat: 8\n",
      "Enter initial quantity for book: 90\n",
      "Enter initial quantity for keychain: 150\n"
     ]
    },
    {
     "data": {
      "text/plain": [
       "{'t-shirt': 40, 'mug': 6, 'hat': 8, 'book': 90, 'keychain': 150}"
      ]
     },
     "execution_count": 28,
     "metadata": {},
     "output_type": "execute_result"
    }
   ],
   "source": [
    "initialize_inventory(products)"
   ]
  },
  {
   "cell_type": "code",
   "execution_count": 44,
   "id": "7dc51e44",
   "metadata": {},
   "outputs": [],
   "source": [
    "# Define a function named get_customer_orders that takes no parameters. Inside the function, implement the code for prompting the user to enter the product names using a loop. The function should return the customer_orders set.\n",
    "\n",
    "def get_customer_orders():\n",
    "    customer_orders = {}\n",
    "    user_selection = input(\"Enter a product you'd like to order (or 'done' to finish): \")\n",
    "\n",
    "    while user_selection.lower() != 'done':\n",
    "        if user_selection in products:\n",
    "            quantity = int(input(f\"Enter quantity for {user_selection}: \"))\n",
    "            customer_orders[user_selection] = quantity\n",
    "        else:\n",
    "            print(f\"{user_selection} is not a valid product.\")\n",
    "\n",
    "        user_selection = input(\"Name another product you'd like to order (or 'done' to finish): \")\n"
   ]
  },
  {
   "cell_type": "code",
   "execution_count": 55,
   "id": "5e40de1d",
   "metadata": {},
   "outputs": [
    {
     "name": "stdout",
     "output_type": "stream",
     "text": [
      "Enter a product you'd like to order (or 'done' to finish): hat\n",
      "Enter quantity for hat: 2\n",
      "Name another product you'd like to order (or 'done' to finish): done\n"
     ]
    }
   ],
   "source": [
    "get_customer_orders()"
   ]
  },
  {
   "cell_type": "code",
   "execution_count": 58,
   "id": "8b70871b",
   "metadata": {},
   "outputs": [
    {
     "ename": "NameError",
     "evalue": "name 'updated_inventory' is not defined",
     "output_type": "error",
     "traceback": [
      "\u001b[0;31m---------------------------------------------------------------------------\u001b[0m",
      "\u001b[0;31mNameError\u001b[0m                                 Traceback (most recent call last)",
      "Cell \u001b[0;32mIn[58], line 5\u001b[0m\n\u001b[1;32m      3\u001b[0m \u001b[38;5;28;01mdef\u001b[39;00m \u001b[38;5;21mupdate_inventory\u001b[39m(customer_orders, inventory):\n\u001b[1;32m      4\u001b[0m     updated_inventory \u001b[38;5;241m=\u001b[39m update_inventory(customer_orders, inventory)\n\u001b[0;32m----> 5\u001b[0m \u001b[38;5;28mprint\u001b[39m(\u001b[38;5;124m\"\u001b[39m\u001b[38;5;124mUpdated Inventory:\u001b[39m\u001b[38;5;124m\"\u001b[39m, updated_inventory)\n",
      "\u001b[0;31mNameError\u001b[0m: name 'updated_inventory' is not defined"
     ]
    }
   ],
   "source": [
    "# Define a function named update_inventory that takes customer_orders and inventory as parameters. Inside the function, implement the code for updating the inventory dictionary based on the customer orders.\n",
    "\n",
    "def update_inventory(customer_orders, inventory):\n",
    "    from i,j in inventory "
   ]
  },
  {
   "cell_type": "code",
   "execution_count": 57,
   "id": "822ba0e9",
   "metadata": {},
   "outputs": [
    {
     "ename": "AttributeError",
     "evalue": "'set' object has no attribute 'items'",
     "output_type": "error",
     "traceback": [
      "\u001b[0;31m---------------------------------------------------------------------------\u001b[0m",
      "\u001b[0;31mAttributeError\u001b[0m                            Traceback (most recent call last)",
      "Cell \u001b[0;32mIn[57], line 1\u001b[0m\n\u001b[0;32m----> 1\u001b[0m update_inventory(customer_orders, inventory)\n",
      "Cell \u001b[0;32mIn[56], line 6\u001b[0m, in \u001b[0;36mupdate_inventory\u001b[0;34m(customer_orders, inventory)\u001b[0m\n\u001b[1;32m      3\u001b[0m \u001b[38;5;28;01mdef\u001b[39;00m \u001b[38;5;21mupdate_inventory\u001b[39m(customer_orders, inventory):\n\u001b[1;32m      4\u001b[0m     updated_inventory \u001b[38;5;241m=\u001b[39m inventory\u001b[38;5;241m.\u001b[39mcopy()\n\u001b[0;32m----> 6\u001b[0m     \u001b[38;5;28;01mfor\u001b[39;00m item, quantity \u001b[38;5;129;01min\u001b[39;00m customer_orders\u001b[38;5;241m.\u001b[39mitems():\n\u001b[1;32m      7\u001b[0m         updated_inventory[item] \u001b[38;5;241m-\u001b[39m\u001b[38;5;241m=\u001b[39m quantity\n\u001b[1;32m      9\u001b[0m     \u001b[38;5;28;01mreturn\u001b[39;00m updated_inventory\n",
      "\u001b[0;31mAttributeError\u001b[0m: 'set' object has no attribute 'items'"
     ]
    }
   ],
   "source": [
    "update_inventory(customer_orders, inventory)"
   ]
  },
  {
   "cell_type": "code",
   "execution_count": 37,
   "id": "e09eb794",
   "metadata": {},
   "outputs": [],
   "source": [
    "# Define a function named calculate_order_statistics that takes customer_orders and products as parameters. Inside the function, implement the code for calculating the order statistics (total products ordered, and percentage of unique products ordered). The function should return these values.\n",
    "\n",
    "def calculate_order_statistics(customer_orders, products):\n",
    "    \n",
    "    total_products_ordered = sum(customer_orders.values())  \n",
    "    unique_products_ordered = set(customer_orders.keys())\n",
    "    total_unique_products = len(unique_products_ordered)\n",
    "\n",
    "    percentage_unique_products = (total_unique_products / total_products_ordered) * 100\n",
    "\n",
    "    return total_products_ordered, percentage_unique_products"
   ]
  },
  {
   "cell_type": "code",
   "execution_count": 38,
   "id": "b1781fc2",
   "metadata": {},
   "outputs": [
    {
     "data": {
      "text/plain": [
       "<function __main__.calculate_order_statistics(customer_orders, products)>"
      ]
     },
     "execution_count": 38,
     "metadata": {},
     "output_type": "execute_result"
    }
   ],
   "source": [
    "calculate_order_statistics"
   ]
  },
  {
   "cell_type": "code",
   "execution_count": 39,
   "id": "2e3119a1",
   "metadata": {},
   "outputs": [],
   "source": [
    "# Define a function named print_order_statistics that takes order_statistics as a parameter. Inside the function, implement the code for printing the order statistics.\n",
    "\n",
    "def print_order_statistics (order_statistics):\n",
    "    \n",
    "    order_statistics = total_products_ordered, percentage_unique_products\n",
    "    \n",
    "    print(f\"Total products ordered: {total_ordered}\")\n",
    "    print(f\"Percentage of unique products ordered: {percentage_unique: }%\")\n"
   ]
  },
  {
   "cell_type": "code",
   "execution_count": 40,
   "id": "362c1761",
   "metadata": {},
   "outputs": [
    {
     "data": {
      "text/plain": [
       "<function __main__.print_order_statistics(order_statistics)>"
      ]
     },
     "execution_count": 40,
     "metadata": {},
     "output_type": "execute_result"
    }
   ],
   "source": [
    "print_order_statistics"
   ]
  },
  {
   "cell_type": "code",
   "execution_count": 16,
   "id": "9db75f10",
   "metadata": {},
   "outputs": [],
   "source": [
    "# Define a function named print_updated_inventory that takes inventory as a parameter. Inside the function, implement the code for printing the updated inventory.\n",
    "\n",
    "def print_updated_inventory (inventory):\n",
    "    \n",
    "    print(\"Updated Inventory: \")\n",
    "    for item, quantity in inventory.items():\n",
    "        print(f\"{item}: {quantity}\")\n",
    "    "
   ]
  },
  {
   "cell_type": "code",
   "execution_count": null,
   "id": "28b4a7ef",
   "metadata": {},
   "outputs": [],
   "source": []
  }
 ],
 "metadata": {
  "kernelspec": {
   "display_name": "Python 3 (ipykernel)",
   "language": "python",
   "name": "python3"
  },
  "language_info": {
   "codemirror_mode": {
    "name": "ipython",
    "version": 3
   },
   "file_extension": ".py",
   "mimetype": "text/x-python",
   "name": "python",
   "nbconvert_exporter": "python",
   "pygments_lexer": "ipython3",
   "version": "3.11.5"
  }
 },
 "nbformat": 4,
 "nbformat_minor": 5
}
