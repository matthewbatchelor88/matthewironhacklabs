{
 "cells": [
  {
   "cell_type": "markdown",
   "id": "25d7736c-ba17-4aff-b6bb-66eba20fbf4e",
   "metadata": {},
   "source": [
    "# Lab | Error Handling"
   ]
  },
  {
   "cell_type": "markdown",
   "id": "bc99b386-7508-47a0-bcdb-d969deaf6c8b",
   "metadata": {},
   "source": [
    "## Exercise: Error Handling for Managing Customer Orders\n",
    "\n",
    "The implementation of your code for managing customer orders assumes that the user will always enter a valid input. \n",
    "\n",
    "For example, we could modify the `initialize_inventory` function to include error handling.\n",
    "   - If the user enters an invalid quantity (e.g., a negative value or a non-numeric value), display an error message and ask them to re-enter the quantity for that product.\n",
    "   - Use a try-except block to handle the error and continue prompting the user until a valid quantity is entered.\n",
    "\n",
    "```python\n",
    "# Step 1: Define the function for initializing the inventory with error handling\n",
    "def initialize_inventory(products):\n",
    "    inventory = {}\n",
    "    for product in products:\n",
    "        valid_quantity = False\n",
    "        while not valid_quantity:\n",
    "            try:\n",
    "                quantity = int(input(f\"Enter the quantity of {product}s available: \"))\n",
    "                if quantity < 0:\n",
    "                    raise ValueError(\"Invalid quantity! Please enter a non-negative value.\")\n",
    "                valid_quantity = True\n",
    "            except ValueError as error:\n",
    "                print(f\"Error: {error}\")\n",
    "        inventory[product] = quantity\n",
    "    return inventory\n",
    "\n",
    "# Or, in another way:\n",
    "\n",
    "def initialize_inventory(products):\n",
    "    inventory = {}\n",
    "    for product in products:\n",
    "        valid_input = False\n",
    "        while not valid_input:\n",
    "            try:\n",
    "                quantity = int(input(f\"Enter the quantity of {product}s available: \"))\n",
    "                if quantity >= 0:\n",
    "                    inventory[product] = quantity\n",
    "                    valid_input = True\n",
    "                else:\n",
    "                    print(\"Quantity cannot be negative. Please enter a valid quantity.\")\n",
    "            except ValueError:\n",
    "                print(\"Invalid input. Please enter a valid quantity.\")\n",
    "    return inventory\n",
    "```\n",
    "\n",
    "Let's enhance your code by implementing error handling to handle invalid inputs.\n",
    "\n",
    "Follow the steps below to complete the exercise:\n",
    "\n",
    "2. Modify the `calculate_total_price` function to include error handling.\n",
    "   - If the user enters an invalid price (e.g., a negative value or a non-numeric value), display an error message and ask them to re-enter the price for that product.\n",
    "   - Use a try-except block to handle the error and continue prompting the user until a valid price is entered.\n",
    "\n",
    "3. Modify the `get_customer_orders` function to include error handling.\n",
    "   - If the user enters an invalid number of orders (e.g., a negative value or a non-numeric value), display an error message and ask them to re-enter the number of orders.\n",
    "   - If the user enters an invalid product name (e.g., a product name that is not in the inventory), or that doesn't have stock available, display an error message and ask them to re-enter the product name. *Hint: you will need to pass inventory as a parameter*\n",
    "   - Use a try-except block to handle the error and continue prompting the user until a valid product name is entered.\n",
    "\n",
    "4. Test your code by running the program and deliberately entering invalid quantities and product names. Make sure the error handling mechanism works as expected.\n"
   ]
  },
  {
   "cell_type": "code",
   "execution_count": 71,
   "id": "74b88588",
   "metadata": {},
   "outputs": [
    {
     "name": "stdout",
     "output_type": "stream",
     "text": [
      "Enter desired quantity of t-shirt: 5\n",
      "Enter desired quantity of mug: 5\n",
      "Enter desired quantity of hat: 5\n",
      "Enter desired quantity of book: 5\n",
      "Enter desired quantity of keychain: 5\n"
     ]
    }
   ],
   "source": [
    "# If the user enters an invalid price (e.g., a negative value or a non-numeric value), display an error message and ask them to re-enter the price for that product.\n",
    "# Use a try-except block to handle the error and continue prompting the user until a valid price is entered.\n",
    "\n",
    "products = [\"t-shirt\", \"mug\", \"hat\", \"book\", \"keychain\"]\n",
    "inventory = {t-shirt: 3, mug: 5, hat: 3, book: 2, keychain: 4}\n",
    "\n",
    "def get_customer_orders(products):\n",
    "    customer_orders = set()  \n",
    "    for product in products: \n",
    "        user_selection_quantity = int(input(f\"Enter desired quantity of {product}: \"))\n",
    "        customer_orders.add((product, user_selection_quantity))\n",
    "    return customer_orders\n",
    "\n",
    "customer_orders = get_customer_orders(products)\n",
    "\n",
    "def calculate_total_price(customer_orders):\n",
    "    total_price = sum(int(input(f\"Enter the price for {product}: \")) for product, quantity in customer_orders)\n",
    "    return total_price\n"
   ]
  },
  {
   "cell_type": "code",
   "execution_count": 72,
   "id": "3370c9c6",
   "metadata": {},
   "outputs": [
    {
     "name": "stdout",
     "output_type": "stream",
     "text": [
      "Enter desired quantity of t-shirt: 5\n",
      "Enter desired quantity of mug: 5\n",
      "Enter desired quantity of hat: 5\n",
      "Enter desired quantity of book: 5\n",
      "Enter desired quantity of keychain: 5\n"
     ]
    },
    {
     "data": {
      "text/plain": [
       "{('book', 5), ('hat', 5), ('keychain', 5), ('mug', 5), ('t-shirt', 5)}"
      ]
     },
     "execution_count": 72,
     "metadata": {},
     "output_type": "execute_result"
    }
   ],
   "source": [
    "get_customer_orders(products)\n"
   ]
  },
  {
   "cell_type": "code",
   "execution_count": 73,
   "id": "503be310",
   "metadata": {},
   "outputs": [
    {
     "name": "stdout",
     "output_type": "stream",
     "text": [
      "Enter the price for mug: 1\n",
      "Enter the price for t-shirt: 1\n",
      "Enter the price for book: 11\n",
      "Enter the price for hat: 1\n",
      "Enter the price for keychain: 1\n"
     ]
    },
    {
     "data": {
      "text/plain": [
       "15"
      ]
     },
     "execution_count": 73,
     "metadata": {},
     "output_type": "execute_result"
    }
   ],
   "source": [
    "calculate_total_price(customer_orders)"
   ]
  },
  {
   "cell_type": "code",
   "execution_count": 80,
   "id": "b5e2cad9",
   "metadata": {},
   "outputs": [
    {
     "name": "stdout",
     "output_type": "stream",
     "text": [
      "Enter the price for mug: -7\n",
      "Enter the price for t-shirt: -7.0\n"
     ]
    },
    {
     "ename": "ValueError",
     "evalue": "invalid literal for int() with base 10: '-7.0'",
     "output_type": "error",
     "traceback": [
      "\u001b[0;31m---------------------------------------------------------------------------\u001b[0m",
      "\u001b[0;31mValueError\u001b[0m                                Traceback (most recent call last)",
      "Cell \u001b[0;32mIn[80], line 1\u001b[0m\n\u001b[0;32m----> 1\u001b[0m calculate_total_price(customer_orders)\n\u001b[1;32m      3\u001b[0m price_per_unit \u001b[38;5;241m=\u001b[39m \u001b[38;5;28mint\u001b[39m(\u001b[38;5;28minput\u001b[39m(\u001b[38;5;124mf\u001b[39m\u001b[38;5;124m\"\u001b[39m\u001b[38;5;124mEnter the price for \u001b[39m\u001b[38;5;132;01m{\u001b[39;00mproduct\u001b[38;5;132;01m}\u001b[39;00m\u001b[38;5;124m: \u001b[39m\u001b[38;5;124m\"\u001b[39m))\n\u001b[1;32m      5\u001b[0m \u001b[38;5;28;01mtry\u001b[39;00m:\n",
      "Cell \u001b[0;32mIn[71], line 17\u001b[0m, in \u001b[0;36mcalculate_total_price\u001b[0;34m(customer_orders)\u001b[0m\n\u001b[1;32m     16\u001b[0m \u001b[38;5;28;01mdef\u001b[39;00m \u001b[38;5;21mcalculate_total_price\u001b[39m(customer_orders):\n\u001b[0;32m---> 17\u001b[0m     total_price \u001b[38;5;241m=\u001b[39m \u001b[38;5;28msum\u001b[39m(\u001b[38;5;28mint\u001b[39m(\u001b[38;5;28minput\u001b[39m(\u001b[38;5;124mf\u001b[39m\u001b[38;5;124m\"\u001b[39m\u001b[38;5;124mEnter the price for \u001b[39m\u001b[38;5;132;01m{\u001b[39;00mproduct\u001b[38;5;132;01m}\u001b[39;00m\u001b[38;5;124m: \u001b[39m\u001b[38;5;124m\"\u001b[39m)) \u001b[38;5;28;01mfor\u001b[39;00m product, quantity \u001b[38;5;129;01min\u001b[39;00m customer_orders)\n\u001b[1;32m     18\u001b[0m     \u001b[38;5;28;01mreturn\u001b[39;00m total_price\n",
      "Cell \u001b[0;32mIn[71], line 17\u001b[0m, in \u001b[0;36m<genexpr>\u001b[0;34m(.0)\u001b[0m\n\u001b[1;32m     16\u001b[0m \u001b[38;5;28;01mdef\u001b[39;00m \u001b[38;5;21mcalculate_total_price\u001b[39m(customer_orders):\n\u001b[0;32m---> 17\u001b[0m     total_price \u001b[38;5;241m=\u001b[39m \u001b[38;5;28msum\u001b[39m(\u001b[38;5;28mint\u001b[39m(\u001b[38;5;28minput\u001b[39m(\u001b[38;5;124mf\u001b[39m\u001b[38;5;124m\"\u001b[39m\u001b[38;5;124mEnter the price for \u001b[39m\u001b[38;5;132;01m{\u001b[39;00mproduct\u001b[38;5;132;01m}\u001b[39;00m\u001b[38;5;124m: \u001b[39m\u001b[38;5;124m\"\u001b[39m)) \u001b[38;5;28;01mfor\u001b[39;00m product, quantity \u001b[38;5;129;01min\u001b[39;00m customer_orders)\n\u001b[1;32m     18\u001b[0m     \u001b[38;5;28;01mreturn\u001b[39;00m total_price\n",
      "\u001b[0;31mValueError\u001b[0m: invalid literal for int() with base 10: '-7.0'"
     ]
    }
   ],
   "source": [
    "calculate_total_price(customer_orders)\n",
    "\n",
    "price_per_unit = int(input(f\"Enter the price for {product}: \"))\n",
    "\n",
    "try:\n",
    "    price_per_unit >= 0 #This should catch negative values \n",
    "except ValueError as e:\n",
    "    print(f\"Error: {e}. Please enter a valid price.\") #This should catch non-numeric values \n",
    "finally:\n",
    "    print(\"Operation complete\")\n",
    "\n",
    "#Can't understand why this still enables a negative input for integers but not for floats. "
   ]
  },
  {
   "cell_type": "code",
   "execution_count": 1,
   "id": "3ba1ac1c",
   "metadata": {},
   "outputs": [],
   "source": [
    "def get_customer_orders(products, inventory):\n",
    "    customer_orders = set()\n",
    "\n",
    "    while True:\n",
    "        try:\n",
    "            product = input(f\"Enter the product name: \")\n",
    "            if product not in inventory: \n",
    "                raise ValueError(f\"Invalid product or out of stock: {product}\")\n",
    "\n",
    "            user_selection_quantity = int(input(f\"Enter desired quantity of {product}: \"))\n",
    "            if user_selection_quantity <= 0:\n",
    "                raise ValueError(\"Quantity must be a positive integer\")\n",
    "\n",
    "            customer_orders.add((product, user_selection_quantity))\n",
    "        except ValueError as e:\n",
    "            print(f\"Error: {e}. Please enter valid information.\")\n",
    "\n",
    "    return customer_orders\n"
   ]
  },
  {
   "cell_type": "code",
   "execution_count": 3,
   "id": "9a9677b3",
   "metadata": {},
   "outputs": [],
   "source": [
    "# IronHack solutions below "
   ]
  },
  {
   "cell_type": "code",
   "execution_count": 4,
   "id": "fb3d85f4",
   "metadata": {},
   "outputs": [],
   "source": [
    "# Step 1: Define the function for initializing the inventory with error handling\n",
    "def initialize_inventory(products):\n",
    "    inventory = {}\n",
    "    for product in products:\n",
    "        valid_quantity = False\n",
    "        while not valid_quantity:\n",
    "            try:\n",
    "                quantity = int(input(f\"Enter the quantity of {product}s available: \"))\n",
    "                if quantity < 0:\n",
    "                    raise ValueError(\"Invalid quantity! Please enter a non-negative value.\")\n",
    "                valid_quantity = True\n",
    "            except ValueError as error:\n",
    "                print(f\"Error: {error}\")\n",
    "        inventory[product] = quantity\n",
    "    return inventory\n",
    "\n",
    "# Or, in another way:\n",
    "\n",
    "def initialize_inventory(products):\n",
    "    inventory = {}\n",
    "    for product in products:\n",
    "        valid_input = False\n",
    "        while not valid_input:\n",
    "            try:\n",
    "                quantity = int(input(f\"Enter the quantity of {product}s available: \"))\n",
    "                if quantity >= 0:\n",
    "                    inventory[product] = quantity\n",
    "                    valid_input = True\n",
    "                else:\n",
    "                    print(\"Quantity cannot be negative. Please enter a valid quantity.\")\n",
    "            except ValueError:\n",
    "                print(\"Invalid input. Please enter a valid quantity.\")\n",
    "    return inventory"
   ]
  },
  {
   "cell_type": "code",
   "execution_count": null,
   "id": "8931297e",
   "metadata": {},
   "outputs": [],
   "source": [
    "# Step 1: Define the function for initializing the inventory\n",
    "def initialize_inventory(products):\n",
    "    inventory = {}\n",
    "    for product in products:\n",
    "        valid_input = False\n",
    "        while not valid_input:\n",
    "            try:\n",
    "                quantity = int(input(f\"Enter the quantity of {product}s available: \"))\n",
    "                if quantity >= 0:\n",
    "                    inventory[product] = quantity\n",
    "                    valid_input = True\n",
    "                else:\n",
    "                    print(\"Quantity cannot be negative. Please enter a valid quantity.\")\n",
    "            except ValueError:\n",
    "                print(\"Invalid input. Please enter a valid quantity.\")\n",
    "    return inventory\n",
    "\n",
    "# Step 2: Define the function for getting customer orders\n",
    "def get_customer_orders(inventory):\n",
    "    valid_input = False\n",
    "    while not valid_input:\n",
    "        try:\n",
    "            num_orders = int(input(\"Enter the number of customer orders: \"))\n",
    "            if num_orders >= 0:\n",
    "                valid_input = True\n",
    "            else:\n",
    "                print(\"Number of orders cannot be negative. Please enter a valid number.\")\n",
    "        except ValueError:\n",
    "            print(\"Invalid input. Please enter a valid number.\")\n",
    "\n",
    "    customer_orders = set()\n",
    "    for _ in range(num_orders):\n",
    "        valid_product = False\n",
    "        while not valid_product:\n",
    "            product_name = input(\"Enter the name of a product that a customer wants to order: \")\n",
    "            try:\n",
    "                if product_name in inventory and inventory[product_name] > 0:\n",
    "                    customer_orders.add(product_name)\n",
    "                    valid_product = True\n",
    "                else:\n",
    "                    if product_name not in inventory:\n",
    "                        raise ValueError(f\"Error: {product_name} is not available in the inventory.\")\n",
    "                    else:\n",
    "                        raise ValueError(f\"Error: {product_name} is out of stock.\")\n",
    "            except ValueError as e:\n",
    "                print(str(e))\n",
    "\n",
    "    return customer_orders\n",
    "\n",
    "\n",
    "# Step 3: Define the function for updating the inventory\n",
    "def update_inventory(customer_orders, inventory):\n",
    "    inventory = {product: inventory[product] - 1 if product in customer_orders else inventory[product] for product in inventory}\n",
    "    inventory = {product: quantity for product, quantity in inventory.items() if quantity > 0}\n",
    "    return inventory\n",
    "\n",
    "# Step 4: Define the function for calculating order statistics\n",
    "def calculate_order_statistics(customer_orders, products):\n",
    "    total_products_ordered = len(customer_orders)\n",
    "    percentage_ordered = (total_products_ordered / len(products)) * 100\n",
    "    return total_products_ordered, percentage_ordered\n",
    "\n",
    "# Step 5: Define the function for printing order statistics\n",
    "def print_order_statistics(order_statistics):\n",
    "    print(\"\\nOrder Statistics:\")\n",
    "    print(\"Total Products Ordered:\", order_statistics[0])\n",
    "    print(\"Percentage of Unique Products Ordered:\", order_statistics[1])\n",
    "\n",
    "# Step 6: Define the function for printing the updated inventory\n",
    "def print_updated_inventory(inventory):\n",
    "    print(\"\\nUpdated Inventory:\")\n",
    "    [print(f\"{product}: {quantity}\") for product, quantity in inventory.items()]\n",
    "\n",
    "# Step 7: Define the function for calculating the total price of the customer order\n",
    "def calculate_total_price(customer_orders):\n",
    "    total_price = 0\n",
    "    for product in customer_orders:\n",
    "        valid_input = False\n",
    "        while not valid_input:\n",
    "            try:\n",
    "                price = float(input(f\"Enter the price of {product}: \"))\n",
    "                if price >= 0:\n",
    "                    total_price += price\n",
    "                    valid_input = True\n",
    "                else:\n",
    "                    print(\"Price cannot be negative. Please enter a valid price.\")\n",
    "            except ValueError:\n",
    "                print(\"Invalid input. Please enter a valid price.\")\n",
    "    return total_price\n",
    "\n",
    "# Step 8: Call the functions in the appropriate sequence to manage customer orders\n",
    "products = [\"t-shirt\", \"mug\", \"hat\", \"book\", \"keychain\"]\n",
    "inventory = initialize_inventory(products)\n",
    "customer_orders = get_customer_orders(inventory)\n",
    "inventory = update_inventory(customer_orders, inventory)\n",
    "order_statistics = calculate_order_statistics(customer_orders, products)\n",
    "print_order_statistics(order_statistics)\n",
    "print_updated_inventory(inventory)\n",
    "total_price = calculate_total_price(customer_orders)\n",
    "print(\"Total Price:\", total_price)"
   ]
  }
 ],
 "metadata": {
  "kernelspec": {
   "display_name": "Python 3 (ipykernel)",
   "language": "python",
   "name": "python3"
  },
  "language_info": {
   "codemirror_mode": {
    "name": "ipython",
    "version": 3
   },
   "file_extension": ".py",
   "mimetype": "text/x-python",
   "name": "python",
   "nbconvert_exporter": "python",
   "pygments_lexer": "ipython3",
   "version": "3.11.5"
  }
 },
 "nbformat": 4,
 "nbformat_minor": 5
}
